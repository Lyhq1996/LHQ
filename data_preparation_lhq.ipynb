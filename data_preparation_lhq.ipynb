{
  "nbformat": 4,
  "nbformat_minor": 0,
  "metadata": {
    "colab": {
      "name": "data preparation_lhq.ipynb",
      "provenance": [],
      "collapsed_sections": [],
      "include_colab_link": true
    },
    "kernelspec": {
      "name": "python3",
      "display_name": "Python 3"
    }
  },
  "cells": [
    {
      "cell_type": "markdown",
      "metadata": {
        "id": "view-in-github",
        "colab_type": "text"
      },
      "source": [
        "<a href=\"https://colab.research.google.com/github/Lyhq1996/LHQ/blob/master/data_preparation_lhq.ipynb\" target=\"_parent\"><img src=\"https://colab.research.google.com/assets/colab-badge.svg\" alt=\"Open In Colab\"/></a>"
      ]
    },
    {
      "cell_type": "code",
      "metadata": {
        "id": "XGmHRyW2ctlH",
        "colab_type": "code",
        "outputId": "6706718a-d1e4-4686-a812-8cd875a0a768",
        "colab": {
          "base_uri": "https://localhost:8080/",
          "height": 122
        }
      },
      "source": [
        "# Load the Drive helper and mount\n",
        "from google.colab import drive\n",
        "\n",
        "# This will prompt for authorization.\n",
        "drive.mount('/content/drive')"
      ],
      "execution_count": 1,
      "outputs": [
        {
          "output_type": "stream",
          "text": [
            "Go to this URL in a browser: https://accounts.google.com/o/oauth2/auth?client_id=947318989803-6bn6qk8qdgf4n4g3pfee6491hc0brc4i.apps.googleusercontent.com&redirect_uri=urn%3aietf%3awg%3aoauth%3a2.0%3aoob&response_type=code&scope=email%20https%3a%2f%2fwww.googleapis.com%2fauth%2fdocs.test%20https%3a%2f%2fwww.googleapis.com%2fauth%2fdrive%20https%3a%2f%2fwww.googleapis.com%2fauth%2fdrive.photos.readonly%20https%3a%2f%2fwww.googleapis.com%2fauth%2fpeopleapi.readonly\n",
            "\n",
            "Enter your authorization code:\n",
            "··········\n",
            "Mounted at /content/drive\n"
          ],
          "name": "stdout"
        }
      ]
    },
    {
      "cell_type": "code",
      "metadata": {
        "id": "Z5X4OkJCdPj5",
        "colab_type": "code",
        "colab": {}
      },
      "source": [
        "!apt-get install openjdk-8-jdk-headless -qq > /dev/null\n",
        "!wget -q https://archive.apache.org/dist/spark/spark-2.3.3/spark-2.3.3-bin-hadoop2.7.tgz\n",
        "!tar xf spark-2.3.3-bin-hadoop2.7.tgz\n",
        "!pip install -q findspark"
      ],
      "execution_count": 0,
      "outputs": []
    },
    {
      "cell_type": "code",
      "metadata": {
        "id": "aSJS5D5IdR70",
        "colab_type": "code",
        "outputId": "0cd1f2d9-017d-45ee-cd63-ee7c79b854b7",
        "colab": {
          "base_uri": "https://localhost:8080/",
          "height": 224
        }
      },
      "source": [
        "#install kaggle api library\n",
        "!pip install kaggle"
      ],
      "execution_count": 3,
      "outputs": [
        {
          "output_type": "stream",
          "text": [
            "Requirement already satisfied: kaggle in /usr/local/lib/python3.6/dist-packages (1.5.6)\n",
            "Requirement already satisfied: six>=1.10 in /usr/local/lib/python3.6/dist-packages (from kaggle) (1.12.0)\n",
            "Requirement already satisfied: urllib3<1.25,>=1.21.1 in /usr/local/lib/python3.6/dist-packages (from kaggle) (1.24.3)\n",
            "Requirement already satisfied: requests in /usr/local/lib/python3.6/dist-packages (from kaggle) (2.21.0)\n",
            "Requirement already satisfied: python-dateutil in /usr/local/lib/python3.6/dist-packages (from kaggle) (2.6.1)\n",
            "Requirement already satisfied: python-slugify in /usr/local/lib/python3.6/dist-packages (from kaggle) (4.0.0)\n",
            "Requirement already satisfied: tqdm in /usr/local/lib/python3.6/dist-packages (from kaggle) (4.28.1)\n",
            "Requirement already satisfied: certifi in /usr/local/lib/python3.6/dist-packages (from kaggle) (2019.11.28)\n",
            "Requirement already satisfied: chardet<3.1.0,>=3.0.2 in /usr/local/lib/python3.6/dist-packages (from requests->kaggle) (3.0.4)\n",
            "Requirement already satisfied: idna<2.9,>=2.5 in /usr/local/lib/python3.6/dist-packages (from requests->kaggle) (2.8)\n",
            "Requirement already satisfied: text-unidecode>=1.3 in /usr/local/lib/python3.6/dist-packages (from python-slugify->kaggle) (1.3)\n"
          ],
          "name": "stdout"
        }
      ]
    },
    {
      "cell_type": "code",
      "metadata": {
        "id": "1JmDvWIOkb7F",
        "colab_type": "code",
        "colab": {}
      },
      "source": [
        "#check if there is a directory called .kaggle under the content, it not, make one\n",
        "#%cd /content/drive/My\\ Drive/\n",
        "# !mkdir \"Colab Notebooks\"\n",
        "#%cd \"Colab Notebooks\"\n",
        "# !mkdir data\n",
        "#%cd data\n",
        "!mkdir /root/.kaggle"
      ],
      "execution_count": 0,
      "outputs": []
    },
    {
      "cell_type": "code",
      "metadata": {
        "id": "o8yCntVedViE",
        "colab_type": "code",
        "colab": {}
      },
      "source": [
        "# import json file to store Kaggle API\n",
        "import json\n",
        "token = {\"username\":\"hongqianli96\",\"key\":\"c16a8eba40b41276cf5709b644cced88\"} \n",
        "with open('/root/.kaggle/kaggle.json', 'w') as file:\n",
        "    json.dump(token, file)"
      ],
      "execution_count": 0,
      "outputs": []
    },
    {
      "cell_type": "code",
      "metadata": {
        "id": "xw9DQ3Ywd2CP",
        "colab_type": "code",
        "outputId": "dcc8672d-4561-45d4-8a11-7193c7e14cea",
        "colab": {
          "base_uri": "https://localhost:8080/",
          "height": 105
        }
      },
      "source": [
        "!kaggle datasets download -d yelp-dataset/yelp-dataset"
      ],
      "execution_count": 6,
      "outputs": [
        {
          "output_type": "stream",
          "text": [
            "Warning: Your Kaggle API key is readable by other users on this system! To fix this, you can run 'chmod 600 /root/.kaggle/kaggle.json'\n",
            "Downloading yelp-dataset.zip to /content\n",
            "100% 3.61G/3.62G [00:48<00:00, 72.1MB/s]\n",
            "100% 3.62G/3.62G [00:48<00:00, 80.5MB/s]\n"
          ],
          "name": "stdout"
        }
      ]
    },
    {
      "cell_type": "code",
      "metadata": {
        "id": "oQFplPy3fNDE",
        "colab_type": "code",
        "colab": {}
      },
      "source": [
        "!chmod 600 /root/.kaggle/kaggle.json"
      ],
      "execution_count": 0,
      "outputs": []
    },
    {
      "cell_type": "code",
      "metadata": {
        "id": "9vPnqYsnd4bb",
        "colab_type": "code",
        "outputId": "724bf81c-5675-4e50-c435-e32105b4db2f",
        "colab": {
          "base_uri": "https://localhost:8080/",
          "height": 136
        }
      },
      "source": [
        "#the dataset is stored in a zip file, unzip it before using \n",
        "!unzip \\*.zip"
      ],
      "execution_count": 8,
      "outputs": [
        {
          "output_type": "stream",
          "text": [
            "Archive:  yelp-dataset.zip\n",
            "  inflating: Dataset_Challenge_Dataset_Agreement.pdf  \n",
            "  inflating: yelp_academic_dataset_business.json  \n",
            "  inflating: yelp_academic_dataset_checkin.json  \n",
            "  inflating: yelp_academic_dataset_review.json  \n",
            "  inflating: yelp_academic_dataset_tip.json  \n",
            "  inflating: yelp_academic_dataset_user.json  \n"
          ],
          "name": "stdout"
        }
      ]
    },
    {
      "cell_type": "code",
      "metadata": {
        "id": "vyrgjVR9d7Pt",
        "colab_type": "code",
        "outputId": "363b3b04-76e9-44c2-f9a5-3197d9d2ae74",
        "colab": {
          "base_uri": "https://localhost:8080/",
          "height": 34
        }
      },
      "source": [
        "import os\n",
        "os.environ[\"JAVA_HOME\"] = \"/usr/lib/jvm/java-8-openjdk-amd64\"\n",
        "os.environ[\"SPARK_HOME\"] = \"/content/spark-2.3.3-bin-hadoop2.7\"\n",
        "\n",
        "print(\"finished\")"
      ],
      "execution_count": 9,
      "outputs": [
        {
          "output_type": "stream",
          "text": [
            "finished\n"
          ],
          "name": "stdout"
        }
      ]
    },
    {
      "cell_type": "code",
      "metadata": {
        "id": "ErHrX9Spe5fR",
        "colab_type": "code",
        "colab": {}
      },
      "source": [
        "import findspark\n",
        "findspark.init()"
      ],
      "execution_count": 0,
      "outputs": []
    },
    {
      "cell_type": "code",
      "metadata": {
        "id": "JV0sNmPge71Q",
        "colab_type": "code",
        "colab": {}
      },
      "source": [
        "import pyspark"
      ],
      "execution_count": 0,
      "outputs": []
    },
    {
      "cell_type": "code",
      "metadata": {
        "id": "3prN5QUCe9id",
        "colab_type": "code",
        "outputId": "fe7b35e9-94c4-485d-b779-e7042c07bf42",
        "colab": {
          "base_uri": "https://localhost:8080/",
          "height": 51
        }
      },
      "source": [
        "# get a spark context\n",
        "sc = pyspark.SparkContext.getOrCreate()\n",
        "print(sc)\n",
        "# get the context\n",
        "spark = pyspark.sql.SparkSession.builder.getOrCreate()\n",
        "print(spark) "
      ],
      "execution_count": 12,
      "outputs": [
        {
          "output_type": "stream",
          "text": [
            "<SparkContext master=local[*] appName=pyspark-shell>\n",
            "<pyspark.sql.session.SparkSession object at 0x7f906ef985c0>\n"
          ],
          "name": "stdout"
        }
      ]
    },
    {
      "cell_type": "code",
      "metadata": {
        "id": "K95UFhJIfDeG",
        "colab_type": "code",
        "outputId": "6ebdd720-f487-4362-e285-e484b2611567",
        "colab": {
          "base_uri": "https://localhost:8080/",
          "height": 479
        }
      },
      "source": [
        "restaurant_review_df= spark.read.json(\"/content/yelp_academic_dataset_review.json\")\n",
        "restaurant_review_df.show()"
      ],
      "execution_count": 13,
      "outputs": [
        {
          "output_type": "stream",
          "text": [
            "+--------------------+----+-------------------+-----+--------------------+-----+--------------------+------+--------------------+\n",
            "|         business_id|cool|               date|funny|           review_id|stars|                text|useful|             user_id|\n",
            "+--------------------+----+-------------------+-----+--------------------+-----+--------------------+------+--------------------+\n",
            "|ujmEBvifdJM6h6RLv...|   0|2013-05-07 04:34:36|    1|Q1sbwvVQXV2734tPg...|  1.0|Total bill for th...|     6|hG7b0MtEbXx5QzbzE...|\n",
            "|NZnhc2sEQy3RmzKTZ...|   0|2017-01-14 21:30:33|    0|GJXCdrto3ASJOqKeV...|  5.0|I *adore* Travis ...|     0|yXQM5uF2jS6es16SJ...|\n",
            "|WTqjgwHlXbSFevF32...|   0|2016-11-09 20:09:03|    0|2TzJjDVDEuAW6MR5V...|  5.0|I have to say tha...|     3|n6-Gk65cPZL6Uz8qR...|\n",
            "|ikCg8xy5JIg_NGPx-...|   0|2018-01-09 20:56:38|    0|yi0R0Ugj_xUx_Nek0...|  5.0|Went in for a lun...|     0|dacAIZ6fTM6mqwW5u...|\n",
            "|b1b1eb3uo-w561D0Z...|   0|2018-01-30 23:07:38|    0|11a8sVPMUFtaC7_AB...|  1.0|Today was my seco...|     7|ssoyf2_x0EQMed6fg...|\n",
            "|eU_713ec6fTGNO4Be...|   0|2013-01-20 13:25:59|    0|fdiNeiN_hoCxCMy2w...|  4.0|I'll be the first...|     0|w31MKYsNFMrjhWxxA...|\n",
            "|3fw2X5bZYeW9xCz_z...|   5|2016-05-07 01:21:02|    4|G7XHMxG0bx9oBJNEC...|  3.0|Tracy dessert had...|     5|jlu4CztcSxrKx56ba...|\n",
            "|zvO-PJCpNk4fgAVUn...|   1|2010-10-05 19:12:35|    1|8e9HxxLjjqc9ez5ez...|  1.0|This place has go...|     3|d6xvYpyzcfbF_AZ8v...|\n",
            "|b2jN2mm9Wf3RcrZCg...|   0|2015-01-18 14:04:18|    0|qrffudO73zsslZbe8...|  2.0|I was really look...|     1|sG_h0dIzTKWa3Q6fm...|\n",
            "|oxwGyA17NL6c5t1Et...|   1|2012-02-29 21:52:43|    0|RS_GTIT6836bCaPy6...|  3.0|It's a giant Best...|     1|nMeCE5-xsdleyxYuN...|\n",
            "|8mIrX_LrOnAqWsB5J...|   0|2011-11-30 02:11:15|    0|kbtscdyz6lvrtGjD1...|  4.0|Like walking back...|     0|FIk4lQQu1eTe2EpzQ...|\n",
            "|mRUVMJkUGxrByzMQ2...|   0|2017-12-15 23:27:08|    1|-I5umRTkhw15RqpKM...|  1.0|Walked in around ...|     0|-mA3-1mN4JIEkqOtd...|\n",
            "|FxLfqxdYPA6Z85PFK...|   0|2016-05-07 01:36:53|    0|Z7wgXp98wYB57QdRY...|  4.0|Wow. So surprised...|     0|GYNnVehQeXjty0xH7...|\n",
            "|LUN6swQYa4xJKaM_U...|   0|2018-04-27 20:25:26|    0|qlXw1JQ0UodW7qrmV...|  4.0|Michael from Red ...|     0|bAhqAPoWaZYcyYi7b...|\n",
            "|AakkkTuGZA2KBodKi...|   0|2012-07-16 00:37:14|    1|JVcjMhlavKKn3UIt9...|  1.0|I cannot believe ...|     1|TpyOT5E16YASd7EWj...|\n",
            "|YvrylyuWgbP90RgMq...|   0|2017-04-07 21:27:49|    0|svK3nBU7Rk8VfGorl...|  5.0|You can't really ...|     0|NJlxGtouq06hhC7sS...|\n",
            "|NyLYY8q1-H3hfsTwu...|   0|2015-01-03 22:47:34|    0|1wVA2-vQIuW_ClmXk...|  4.0|Great lunch today...|     0|86J5DwcFk4f4In1Vx...|\n",
            "|cHdJXLlKNWixBXpDw...|   1|2015-04-01 16:30:00|    7|6BnQwlxRn7ZuWdzni...|  3.0|I love chinese fo...|     1|JSrP-dUmLlwZiI7Dp...|\n",
            "|6lj2BJ4tJeu7db5as...|   0|2017-05-26 01:23:19|    0|rEITo90tpyKmEfNDp...|  5.0|We've been a huge...|     0|6Fz_nus_OG4gar721...|\n",
            "|y-Iw6dZflNix4BdwI...|   0|2014-06-27 21:19:23|    0|4bUyL7lzoWzDZaJET...|  3.0|Good selection of...|     0|_N7Ndn29bpll_961o...|\n",
            "+--------------------+----+-------------------+-----+--------------------+-----+--------------------+------+--------------------+\n",
            "only showing top 20 rows\n",
            "\n"
          ],
          "name": "stdout"
        }
      ]
    },
    {
      "cell_type": "code",
      "metadata": {
        "id": "0Lp-ak8yKOSG",
        "colab_type": "code",
        "colab": {}
      },
      "source": [
        "#data processing"
      ],
      "execution_count": 0,
      "outputs": []
    },
    {
      "cell_type": "code",
      "metadata": {
        "id": "xOfNyMDWf_Lr",
        "colab_type": "code",
        "colab": {}
      },
      "source": [
        "from pyspark.sql import SQLContext\n",
        "sqlContext = SQLContext(sc)"
      ],
      "execution_count": 0,
      "outputs": []
    },
    {
      "cell_type": "code",
      "metadata": {
        "id": "4BsL_zxBgCAV",
        "colab_type": "code",
        "colab": {}
      },
      "source": [
        "import pandas as pd\n",
        "\n",
        "restaurant_review_df=restaurant_review_df.sample(False, 0.05, seed=123)\n"
      ],
      "execution_count": 0,
      "outputs": []
    },
    {
      "cell_type": "code",
      "metadata": {
        "id": "m5gN8majgFIf",
        "colab_type": "code",
        "outputId": "b7d1ac79-bd04-4dde-a8a1-42337fb0ef62",
        "colab": {
          "base_uri": "https://localhost:8080/",
          "height": 479
        }
      },
      "source": [
        "restaurant_review_df.show()"
      ],
      "execution_count": 17,
      "outputs": [
        {
          "output_type": "stream",
          "text": [
            "+--------------------+----+-------------------+-----+--------------------+-----+--------------------+------+--------------------+\n",
            "|         business_id|cool|               date|funny|           review_id|stars|                text|useful|             user_id|\n",
            "+--------------------+----+-------------------+-----+--------------------+-----+--------------------+------+--------------------+\n",
            "|YSUcHqlKMPHHJ_cTr...|   0|2017-12-29 13:55:19|    0|E6B-2U2sGG3xgmnNW...|  1.0|Came here on a Th...|     0|DbccYu3OppWKl21Oa...|\n",
            "|EIL41z-hvVCeYHqfA...|   1|2017-09-20 15:23:35|    0|vzMkIQm34QWBCYaHd...|  5.0|Flat out fantasti...|     1|jAVtSgE5L-Dt6_I5F...|\n",
            "|CZKkoMlqu0N0zCFK-...|   0|2013-02-21 21:25:07|    0|dcKpWjwqKl0ImVKEr...|  4.0|Great cocktails a...|     1|X-5IICsYwqImns4Wx...|\n",
            "|5n2dA_QqO4c_7pSK0...|   1|2015-07-28 09:33:12|    1|DmlGGWLHPAQl2v9qM...|  1.0|I was told so man...|     3|8fpiTkK4MO5jJIXHF...|\n",
            "|EgwGTDZ705TwudPJw...|   0|2011-01-09 00:07:16|    0|W6VRRz7mVGZLsidyH...|  5.0|This place is qui...|     2|To4ATBBNlnC5gzj0d...|\n",
            "|PycR_Mr5jA9jB4Xg3...|   1|2014-01-17 02:15:25|    1|h7Rmb3EiXjajVfGYN...|  1.0|They charged me t...|    14|oAOE4UAC5ZbAjEGBE...|\n",
            "|Kz4WS00PcqOJgxfZa...|   1|2013-12-07 01:41:25|    0|NFlW7_5bOPkR2Nz8t...|  4.0|I love Pizza, but...|     0|qkQ5iVnEdqSxjd3fa...|\n",
            "|seYvTmOZGJ2IAMdfQ...|   1|2014-02-24 00:11:38|    0|qdfEZn3ObIEHC-tiX...|  3.0|I've been here 2x...|     1|ri7itn7-CdpsaPxTT...|\n",
            "|MPLhOV-JbmntkbcXM...|   0|2017-08-16 04:18:04|    0|_MQLmkkPKBo5ibPai...|  2.0|The only reason I...|     0|8pv8leqC1AVx1Kgef...|\n",
            "|UJb1PrUWDFfuzwUPc...|   0|2014-06-27 21:15:37|    0|IQ6yUAb-sCu4iQ5MM...|  5.0|Wild every night!...|     1|-RKsh-eKWJtDqnzTL...|\n",
            "|faPVqws-x-5k2CQKD...|   0|2018-08-04 20:22:15|    0|w1I8U4cJ4QGaXA98I...|  5.0|Service was amazi...|     0|rJNdeta-dYO2YcJ3u...|\n",
            "|Wxxvi3LZbHNIDwJ-Z...|   2|2011-07-28 09:06:59|    4|Sft1a3j3Hst44CG9g...|  1.0|I am so blown awa...|     8|FBxhaS2bPmxwT3I8r...|\n",
            "|FbUzIBAj2ziuqL2gr...|   0|2014-01-17 03:27:38|    4|iSmfAVy6cApgXIYHs...|  1.0|My husband and I ...|     6|TTZyVCWsQXXkRIwiw...|\n",
            "|uLnPW9K1yhNpgzvod...|   0|2014-10-27 04:19:36|    0|OV3RdHNC4Mkg_wWAe...|  4.0|Love this place. ...|     0|qp-z1copnYQq7NPub...|\n",
            "|tstimHoMcYbkSC4eB...|   0|2014-01-17 00:59:36|    0|iWFBGYotfzwiLsOka...|  4.0|We found out abou...|     0|Gvv5hQR8BYj5f-APt...|\n",
            "|R7eLlAdeIYsxux_Vm...|   0|2015-01-18 15:33:08|    0|af3W2YSy01Mx4HcAH...|  2.0|I went with the z...|     3|v6MwW-qjrsDyvcGaL...|\n",
            "|XqJG7Ux_mMfMJnyG2...|   0|2018-08-04 20:49:20|    0|sMh-VUwO64K-VvKEO...|  5.0|What an incredibl...|     0|zsGH_1XyUxuP5O34W...|\n",
            "|8WIvQavDGCyOa-i1u...|   0|2009-10-13 12:57:28|    0|ionasM2PY_2TFbK5D...|  4.0|Being an avid Hoo...|     1|ev_mrEIDJauxugj1r...|\n",
            "|Wxxvi3LZbHNIDwJ-Z...|   0|2018-08-30 03:08:26|    0|9XiyPxxdlJgNhkD8g...|  5.0|The nicest hotel ...|     1|IpY_dVyIFBCPkHJzB...|\n",
            "|pH0BLkL4cbxKzu471...|   0|2017-09-08 23:17:03|    0|pCbyWYtW1kmrz-nV1...|  5.0|A wonderful dinne...|     0|E08iscTU73ioVEaU2...|\n",
            "+--------------------+----+-------------------+-----+--------------------+-----+--------------------+------+--------------------+\n",
            "only showing top 20 rows\n",
            "\n"
          ],
          "name": "stdout"
        }
      ]
    },
    {
      "cell_type": "code",
      "metadata": {
        "id": "--CUQpm8Pv4Z",
        "colab_type": "code",
        "colab": {}
      },
      "source": [
        "restaurant_review_df.registerTempTable(\"review\")"
      ],
      "execution_count": 0,
      "outputs": []
    },
    {
      "cell_type": "code",
      "metadata": {
        "id": "5jh2vyitRmaY",
        "colab_type": "code",
        "colab": {
          "base_uri": "https://localhost:8080/",
          "height": 479
        },
        "outputId": "04a2a1e1-676a-4d62-f9b6-9cff5a4ebbdf"
      },
      "source": [
        "business_df= spark.read.json(\"/content/yelp_academic_dataset_business.json\")\n",
        "business_df.registerTempTable(\"business\")\n",
        "business_df.show()"
      ],
      "execution_count": 19,
      "outputs": [
        {
          "output_type": "stream",
          "text": [
            "+--------------------+--------------------+--------------------+--------------------+------------------+--------------------+-------+-------------+---------------+--------------------+-----------+------------+-----+-----+\n",
            "|             address|          attributes|         business_id|          categories|              city|               hours|is_open|     latitude|      longitude|                name|postal_code|review_count|stars|state|\n",
            "+--------------------+--------------------+--------------------+--------------------+------------------+--------------------+-------+-------------+---------------+--------------------+-----------+------------+-----+-----+\n",
            "|2818 E Camino Ace...|[,,,,,,,,,,,,,,,,...|1SWheh84yJXfytovI...|   Golf, Active Life|           Phoenix|                null|      0|   33.5221425|   -112.0184807|Arizona Biltmore ...|      85016|           5|  3.0|   AZ|\n",
            "|30 Eglinton Avenue W|[,, u'full_bar', ...|QXAEGFB4oINsVuTFx...|Specialty Food, R...|       Mississauga|[9:0-1:0, 9:0-0:0...|      1|43.6054989743|  -79.652288909|Emerald Chinese R...|    L5R 3E7|         128|  2.5|   ON|\n",
            "|10110 Johnston Rd...|[,, u'beer_and_wi...|gnKjwL_1w79qoiV3I...|Sushi Bars, Resta...|         Charlotte|[17:30-22:0, 17:3...|      1|    35.092564|     -80.859132|Musashi Japanese ...|      28210|         170|  4.0|   NC|\n",
            "|15655 W Roosevelt...|                null|xvX2CttrVhyG2z1dF...|Insurance, Financ...|          Goodyear|[8:0-17:0, 8:0-17...|      1|33.4556129678|-112.3955963552|Farmers Insurance...|      85338|           3|  5.0|   AZ|\n",
            "|4209 Stuart Andre...|[,,,,,,,, False, ...|HhyxOkGAM07SRYtlQ...|Plumbing, Shoppin...|         Charlotte|[7:0-23:0, 7:0-23...|      1|   35.1900119|    -80.8872232| Queen City Plumbing|      28217|           4|  4.0|   NC|\n",
            "|Credit Valley Tow...|[,,,,,,,,,, {'gar...|68dUKd8_8liJ7in4a...|Shipping Centers,...|       Mississauga|[9:0-19:0, 9:0-19...|      1|   43.5994753|    -79.7115835|       The UPS Store|    L5V 0B1|           3|  2.5|   ON|\n",
            "|20 Douglas Woods ...|[,,,,,,,,,, {'gar...|5JucpCfHZltJh5r1J...|Beauty & Spas, Ha...|           Calgary|                null|      1|   50.9436456|   -114.0018283|    Edgeworxx Studio|    T2Z 1K4|           7|  3.5|   AB|\n",
            "|4545 E Tropicana ...|[,,,,,,, False,, ...|gbQN7vr_caG_A1ugS...|Hair Salons, Hair...|         Las Vegas|[10:0-19:0, 10:0-...|      1|    36.099872|    -115.074574|           Supercuts|      89121|           3|  3.5|   NV|\n",
            "|5940 W Union Hill...|[,,,,,,, False,, ...|Y6iyemLX_oylRpnr3...|Nail Salons, Beau...|          Glendale|[10:0-17:0,, 10:0...|      0|   33.6548146|   -112.1885676|Vita Bella Fine D...|      85308|           8|  5.0|   AZ|\n",
            "|     21689 Lorain Rd|[False,,,,,,,,, T...|4GBVPIYRvzGh4K4Tk...|Beauty & Spas, Na...|     Fairview Park|[9:0-19:0,, 9:0-1...|      1|41.4408252653| -81.8540965503| Options Salon & Spa|      44126|           8|  4.5|   OH|\n",
            "|1210 8th Street S...|[,,,,,,, False,,,...|fcXOEZdXYeZqnQ3lG...|Local Services, P...|           Calgary|[9:0-17:0, 9:0-17...|      1|    51.041771|    -114.081109|Nucleus Informati...|    T2R 1L3|           5|  2.0|   AB|\n",
            "|2450 E Indian Sch...|[,, u'none', {'ro...|1Dfx3zM-rW4n-31Ke...|Restaurants, Brea...|           Phoenix|[7:0-1:0, 7:0-0:0...|      1|   33.4951941|   -112.0285876|           Taco Bell|      85016|          18|  3.0|   AZ|\n",
            "|119 Landings Dr, ...|[,, 'beer_and_win...|5t3KVdMnFgAYmSl1w...|Bars, Nightlife, ...|       Mooresville|[10:0-1:0, 10:0-1...|      1|35.5274098057| -80.8680032061|The Kilted Buffal...|      28117|           9|  3.5|   NC|\n",
            "|     5981 Andrews Rd|[,, u'none', None...|fweCYi8FmbJXHCqLn...|Italian, Restaura...|Mentor-on-the-Lake|[10:0-1:0, 10:0-0...|      1|     41.70852|     -81.359556|       Marco's Pizza|      44060|          16|  4.0|   OH|\n",
            "|        4145 Erie St|[,,,,,,,,, True, ...|-K4gAv8_vjx8-2Bxk...|      Bakeries, Food|        Willoughby|[11:0-17:0,, 10:0...|      1|   41.6398599|    -81.4063963|          Baby Cakes|      44094|           7|  3.0|   OH|\n",
            "|    1455 16th Avenue|[,,,,,,, True,,, ...|A98xW4qb7vOTguggH...|Fitness & Instruc...|     Richmond Hill|[16:0-21:30, 16:0...|      1| 43.861502576| -79.3884991854|   Hot Yoga Wellness|    L4B 3G6|           4|  4.0|   ON|\n",
            "|4848 E Cactus Rd,...|[,,,,,,,,, True, ...|giC3pVVFxCRR89rAp...|Hair Stylists, Be...|        Scottsdale|[8:0-17:0, 0:0-0:...|      1|    33.600071|    -111.977371|          Knot Salon|      85254|           5|  5.0|   AZ|\n",
            "|1775 E Tropicana ...|[,, u'full_bar', ...|PZ-LZzSlhSe9utkQY...|Restaurants, Italian|         Las Vegas|                null|      0|   36.1000163|   -115.1285285|Carluccio's Tivol...|      89119|          40|  4.0|   NV|\n",
            "|                    |[,,,,,,,,, True,,...|nh_kQ16QAoXWwqZ05...|Event Planning & ...|         Las Vegas|[0:0-0:0, 0:0-0:0...|      1|   36.1165487|   -115.0881146|Myron Hensel Phot...|      89121|          21|  5.0|   NV|\n",
            "|445 King Street W...|[True,,,,,,,,,,, ...|zSpQmEBvRe3IhTUlM...|Trainers, Health ...|           Toronto|[6:0-22:0, 6:0-22...|      1|   43.6450415|    -79.3957986|  Totum Life Science|    M5V 1K4|          23|  4.0|   ON|\n",
            "+--------------------+--------------------+--------------------+--------------------+------------------+--------------------+-------+-------------+---------------+--------------------+-----------+------------+-----+-----+\n",
            "only showing top 20 rows\n",
            "\n"
          ],
          "name": "stdout"
        }
      ]
    },
    {
      "cell_type": "code",
      "metadata": {
        "id": "6P12UgIdRmf2",
        "colab_type": "code",
        "colab": {
          "base_uri": "https://localhost:8080/",
          "height": 459
        },
        "outputId": "d2f17873-3034-4e69-f62c-90060281ee3a"
      },
      "source": [
        "joint_table=spark.sql(\"SELECT review.business_id,business.city,review.review_id,review.stars,review.text,business.categories FROM review LEFT JOIN business on review.business_id=business.business_id\")\n",
        "joint_table.show()\n"
      ],
      "execution_count": 20,
      "outputs": [
        {
          "output_type": "stream",
          "text": [
            "+--------------------+-----------+--------------------+-----+--------------------+--------------------+\n",
            "|         business_id|       city|           review_id|stars|                text|          categories|\n",
            "+--------------------+-----------+--------------------+-----+--------------------+--------------------+\n",
            "|YSUcHqlKMPHHJ_cTr...|    Toronto|E6B-2U2sGG3xgmnNW...|  1.0|Came here on a Th...|Italian, Restaurants|\n",
            "|EIL41z-hvVCeYHqfA...|    Phoenix|vzMkIQm34QWBCYaHd...|  5.0|Flat out fantasti...|Custom Cakes, Ame...|\n",
            "|CZKkoMlqu0N0zCFK-...| Pittsburgh|dcKpWjwqKl0ImVKEr...|  4.0|Great cocktails a...|Restaurants, Amer...|\n",
            "|5n2dA_QqO4c_7pSK0...|  Las Vegas|DmlGGWLHPAQl2v9qM...|  1.0|I was told so man...|Restaurants, Amer...|\n",
            "|EgwGTDZ705TwudPJw...|    Phoenix|W6VRRz7mVGZLsidyH...|  5.0|This place is qui...|Pizza, Salad, Ita...|\n",
            "|PycR_Mr5jA9jB4Xg3...|    Phoenix|h7Rmb3EiXjajVfGYN...|  1.0|They charged me t...|Hotels & Travel, ...|\n",
            "|Kz4WS00PcqOJgxfZa...|       Mesa|NFlW7_5bOPkR2Nz8t...|  4.0|I love Pizza, but...|Restaurants, Stea...|\n",
            "|seYvTmOZGJ2IAMdfQ...|    Phoenix|qdfEZn3ObIEHC-tiX...|  3.0|I've been here 2x...|Bars, Vegetarian,...|\n",
            "|MPLhOV-JbmntkbcXM...| Pittsburgh|_MQLmkkPKBo5ibPai...|  2.0|The only reason I...|Barbeque, Restaur...|\n",
            "|UJb1PrUWDFfuzwUPc...|      Tempe|IQ6yUAb-sCu4iQ5MM...|  5.0|Wild every night!...|Mexican, Sports B...|\n",
            "|faPVqws-x-5k2CQKD...|  Las Vegas|w1I8U4cJ4QGaXA98I...|  5.0|Service was amazi...|Restaurants, Amer...|\n",
            "|Wxxvi3LZbHNIDwJ-Z...|  Las Vegas|Sft1a3j3Hst44CG9g...|  1.0|I am so blown awa...|Shopping Centers,...|\n",
            "|FbUzIBAj2ziuqL2gr...|   Lakewood|iSmfAVy6cApgXIYHs...|  1.0|My husband and I ...|Pizza, Restaurant...|\n",
            "|uLnPW9K1yhNpgzvod...|     Verona|OV3RdHNC4Mkg_wWAe...|  4.0|Love this place. ...|Breweries, Restau...|\n",
            "|tstimHoMcYbkSC4eB...|  Las Vegas|iWFBGYotfzwiLsOka...|  4.0|We found out abou...|Mexican, Restaura...|\n",
            "|R7eLlAdeIYsxux_Vm...| Pittsburgh|af3W2YSy01Mx4HcAH...|  2.0|I went with the z...|Italian, Restaura...|\n",
            "|XqJG7Ux_mMfMJnyG2...|   Montréal|sMh-VUwO64K-VvKEO...|  5.0|What an incredibl...|Burgers, Wine Bar...|\n",
            "|8WIvQavDGCyOa-i1u...|Scarborough|ionasM2PY_2TFbK5D...|  4.0|Being an avid Hoo...|Nightlife, Hookah...|\n",
            "|Wxxvi3LZbHNIDwJ-Z...|  Las Vegas|9XiyPxxdlJgNhkD8g...|  5.0|The nicest hotel ...|Shopping Centers,...|\n",
            "|pH0BLkL4cbxKzu471...|  Las Vegas|pCbyWYtW1kmrz-nV1...|  5.0|A wonderful dinne...|Bars, Dim Sum, Ja...|\n",
            "+--------------------+-----------+--------------------+-----+--------------------+--------------------+\n",
            "only showing top 20 rows\n",
            "\n"
          ],
          "name": "stdout"
        }
      ]
    },
    {
      "cell_type": "code",
      "metadata": {
        "id": "U_vnzNupWgph",
        "colab_type": "code",
        "colab": {
          "base_uri": "https://localhost:8080/",
          "height": 827
        },
        "outputId": "bc56695d-7b2d-4e55-b9cc-081c0db19462"
      },
      "source": [
        "df_review_business=joint_table.toPandas()\n",
        "df_review_business"
      ],
      "execution_count": 21,
      "outputs": [
        {
          "output_type": "execute_result",
          "data": {
            "text/html": [
              "<div>\n",
              "<style scoped>\n",
              "    .dataframe tbody tr th:only-of-type {\n",
              "        vertical-align: middle;\n",
              "    }\n",
              "\n",
              "    .dataframe tbody tr th {\n",
              "        vertical-align: top;\n",
              "    }\n",
              "\n",
              "    .dataframe thead th {\n",
              "        text-align: right;\n",
              "    }\n",
              "</style>\n",
              "<table border=\"1\" class=\"dataframe\">\n",
              "  <thead>\n",
              "    <tr style=\"text-align: right;\">\n",
              "      <th></th>\n",
              "      <th>business_id</th>\n",
              "      <th>city</th>\n",
              "      <th>review_id</th>\n",
              "      <th>stars</th>\n",
              "      <th>text</th>\n",
              "      <th>categories</th>\n",
              "    </tr>\n",
              "  </thead>\n",
              "  <tbody>\n",
              "    <tr>\n",
              "      <th>0</th>\n",
              "      <td>YSUcHqlKMPHHJ_cTrqtNrA</td>\n",
              "      <td>Toronto</td>\n",
              "      <td>E6B-2U2sGG3xgmnNWZAEew</td>\n",
              "      <td>1.0</td>\n",
              "      <td>Came here on a Thursday night at 6:30 p.m. My ...</td>\n",
              "      <td>Italian, Restaurants</td>\n",
              "    </tr>\n",
              "    <tr>\n",
              "      <th>1</th>\n",
              "      <td>EIL41z-hvVCeYHqfA9PyWQ</td>\n",
              "      <td>Phoenix</td>\n",
              "      <td>vzMkIQm34QWBCYaHdV-2mQ</td>\n",
              "      <td>5.0</td>\n",
              "      <td>Flat out fantastic!  Have been here twice and ...</td>\n",
              "      <td>Custom Cakes, American (New), Breakfast &amp; Brun...</td>\n",
              "    </tr>\n",
              "    <tr>\n",
              "      <th>2</th>\n",
              "      <td>CZKkoMlqu0N0zCFK-3T_Fg</td>\n",
              "      <td>Pittsburgh</td>\n",
              "      <td>dcKpWjwqKl0ImVKEru6Q1A</td>\n",
              "      <td>4.0</td>\n",
              "      <td>Great cocktails and very good food.  Overall f...</td>\n",
              "      <td>Restaurants, American (New)</td>\n",
              "    </tr>\n",
              "    <tr>\n",
              "      <th>3</th>\n",
              "      <td>5n2dA_QqO4c_7pSK0Of6AQ</td>\n",
              "      <td>Las Vegas</td>\n",
              "      <td>DmlGGWLHPAQl2v9qM5noyQ</td>\n",
              "      <td>1.0</td>\n",
              "      <td>I was told so many great things about this pla...</td>\n",
              "      <td>Restaurants, American (Traditional), Food, Fas...</td>\n",
              "    </tr>\n",
              "    <tr>\n",
              "      <th>4</th>\n",
              "      <td>EgwGTDZ705TwudPJwAY0yQ</td>\n",
              "      <td>Phoenix</td>\n",
              "      <td>W6VRRz7mVGZLsidyHelHwg</td>\n",
              "      <td>5.0</td>\n",
              "      <td>This place is quite possibly my favorite resta...</td>\n",
              "      <td>Pizza, Salad, Italian, Restaurants</td>\n",
              "    </tr>\n",
              "    <tr>\n",
              "      <th>...</th>\n",
              "      <td>...</td>\n",
              "      <td>...</td>\n",
              "      <td>...</td>\n",
              "      <td>...</td>\n",
              "      <td>...</td>\n",
              "      <td>...</td>\n",
              "    </tr>\n",
              "    <tr>\n",
              "      <th>334361</th>\n",
              "      <td>93cSBol4_mnfzxIfG9RCDA</td>\n",
              "      <td>Phoenix</td>\n",
              "      <td>HTfeyoF9gpY7-T5alsHqEg</td>\n",
              "      <td>5.0</td>\n",
              "      <td>They have an amazing atmosphere.  It always sm...</td>\n",
              "      <td>Food, Creperies, Mexican, Desserts, Restaurants</td>\n",
              "    </tr>\n",
              "    <tr>\n",
              "      <th>334362</th>\n",
              "      <td>jJDnxINrCKstFyeH3F8Cfw</td>\n",
              "      <td>Gilbert</td>\n",
              "      <td>yllqhlHLN2G9yXbhLzxRpw</td>\n",
              "      <td>1.0</td>\n",
              "      <td>I was shocked and truly hurt today by Earnhard...</td>\n",
              "      <td>Car Dealers, Auto Repair, Automotive</td>\n",
              "    </tr>\n",
              "    <tr>\n",
              "      <th>334363</th>\n",
              "      <td>JsE49fqEAChhc7N9qjIl8g</td>\n",
              "      <td>Las Vegas</td>\n",
              "      <td>EX_BRISmxWvzgLSkeQCN0A</td>\n",
              "      <td>1.0</td>\n",
              "      <td>Can't wait to leave this place. How does this ...</td>\n",
              "      <td>Apartments, Home Services, Real Estate</td>\n",
              "    </tr>\n",
              "    <tr>\n",
              "      <th>334364</th>\n",
              "      <td>3kdSl5mo9dWC4clrQjEDGg</td>\n",
              "      <td>Las Vegas</td>\n",
              "      <td>wqqpcIAPdvU2LDgWocrJQw</td>\n",
              "      <td>5.0</td>\n",
              "      <td>Came to Egg  and I For first time. The service...</td>\n",
              "      <td>Breakfast &amp; Brunch, Sandwiches, Burgers, Resta...</td>\n",
              "    </tr>\n",
              "    <tr>\n",
              "      <th>334365</th>\n",
              "      <td>7sb2FYLS2sejZKxRYF9mtg</td>\n",
              "      <td>Las Vegas</td>\n",
              "      <td>-zfXs0DOn8VjMAt4pf5zJw</td>\n",
              "      <td>5.0</td>\n",
              "      <td>Best sushi place I've ever tasted...My favorit...</td>\n",
              "      <td>Buffets, Sushi Bars, Japanese, Restaurants</td>\n",
              "    </tr>\n",
              "  </tbody>\n",
              "</table>\n",
              "<p>334366 rows × 6 columns</p>\n",
              "</div>"
            ],
            "text/plain": [
              "                   business_id  ...                                         categories\n",
              "0       YSUcHqlKMPHHJ_cTrqtNrA  ...                               Italian, Restaurants\n",
              "1       EIL41z-hvVCeYHqfA9PyWQ  ...  Custom Cakes, American (New), Breakfast & Brun...\n",
              "2       CZKkoMlqu0N0zCFK-3T_Fg  ...                        Restaurants, American (New)\n",
              "3       5n2dA_QqO4c_7pSK0Of6AQ  ...  Restaurants, American (Traditional), Food, Fas...\n",
              "4       EgwGTDZ705TwudPJwAY0yQ  ...                 Pizza, Salad, Italian, Restaurants\n",
              "...                        ...  ...                                                ...\n",
              "334361  93cSBol4_mnfzxIfG9RCDA  ...    Food, Creperies, Mexican, Desserts, Restaurants\n",
              "334362  jJDnxINrCKstFyeH3F8Cfw  ...               Car Dealers, Auto Repair, Automotive\n",
              "334363  JsE49fqEAChhc7N9qjIl8g  ...             Apartments, Home Services, Real Estate\n",
              "334364  3kdSl5mo9dWC4clrQjEDGg  ...  Breakfast & Brunch, Sandwiches, Burgers, Resta...\n",
              "334365  7sb2FYLS2sejZKxRYF9mtg  ...         Buffets, Sushi Bars, Japanese, Restaurants\n",
              "\n",
              "[334366 rows x 6 columns]"
            ]
          },
          "metadata": {
            "tags": []
          },
          "execution_count": 21
        }
      ]
    },
    {
      "cell_type": "code",
      "metadata": {
        "id": "8YaZrGdyFerJ",
        "colab_type": "code",
        "colab": {}
      },
      "source": [
        "joint_table=df_review_business.dropna(axis=0,subset=[\"categories\"])"
      ],
      "execution_count": 0,
      "outputs": []
    },
    {
      "cell_type": "code",
      "metadata": {
        "id": "cHYt9njDFuHi",
        "colab_type": "code",
        "colab": {
          "base_uri": "https://localhost:8080/",
          "height": 51
        },
        "outputId": "14cda02d-e006-48b5-f5f5-30bbbf3cd860"
      },
      "source": [
        "joint_table.categories.isnull().value_counts()"
      ],
      "execution_count": 23,
      "outputs": [
        {
          "output_type": "execute_result",
          "data": {
            "text/plain": [
              "False    334245\n",
              "Name: categories, dtype: int64"
            ]
          },
          "metadata": {
            "tags": []
          },
          "execution_count": 23
        }
      ]
    },
    {
      "cell_type": "code",
      "metadata": {
        "id": "aR3ZdBnCF9tW",
        "colab_type": "code",
        "colab": {
          "base_uri": "https://localhost:8080/",
          "height": 827
        },
        "outputId": "4ddbbaa5-02cb-48a5-ebcc-1bfbdeaff516"
      },
      "source": [
        "df_joint=joint_table[joint_table['categories'].str.contains(r'restaurant|food')]\n",
        "df_joint"
      ],
      "execution_count": 24,
      "outputs": [
        {
          "output_type": "execute_result",
          "data": {
            "text/html": [
              "<div>\n",
              "<style scoped>\n",
              "    .dataframe tbody tr th:only-of-type {\n",
              "        vertical-align: middle;\n",
              "    }\n",
              "\n",
              "    .dataframe tbody tr th {\n",
              "        vertical-align: top;\n",
              "    }\n",
              "\n",
              "    .dataframe thead th {\n",
              "        text-align: right;\n",
              "    }\n",
              "</style>\n",
              "<table border=\"1\" class=\"dataframe\">\n",
              "  <thead>\n",
              "    <tr style=\"text-align: right;\">\n",
              "      <th></th>\n",
              "      <th>business_id</th>\n",
              "      <th>city</th>\n",
              "      <th>review_id</th>\n",
              "      <th>stars</th>\n",
              "      <th>text</th>\n",
              "      <th>categories</th>\n",
              "    </tr>\n",
              "  </thead>\n",
              "  <tbody>\n",
              "    <tr>\n",
              "      <th>62</th>\n",
              "      <td>g-I48SaHtdIGR5ZEoVeNFw</td>\n",
              "      <td>Phoenix</td>\n",
              "      <td>WvMEtCJpaJdzUKn1mrH2aQ</td>\n",
              "      <td>1.0</td>\n",
              "      <td>WOW!  That's all I have to say.  Not sure what...</td>\n",
              "      <td>Seafood, Japanese, Restaurants, Sushi Bars</td>\n",
              "    </tr>\n",
              "    <tr>\n",
              "      <th>92</th>\n",
              "      <td>FYqFfaxVRW6pdviONXIoDw</td>\n",
              "      <td>Las Vegas</td>\n",
              "      <td>azRegHJy84yWXaYAUB1zpA</td>\n",
              "      <td>5.0</td>\n",
              "      <td>I wanted to respond to Aaron's review. That's ...</td>\n",
              "      <td>Nightlife, Restaurants, Steakhouses, American ...</td>\n",
              "    </tr>\n",
              "    <tr>\n",
              "      <th>98</th>\n",
              "      <td>1Df5WnLX3DqN6ymlhqznaQ</td>\n",
              "      <td>Las Vegas</td>\n",
              "      <td>7b-TGnso8sA2KUbzXs-9Gg</td>\n",
              "      <td>4.0</td>\n",
              "      <td>Very delicious place. The Prix Fixe Menu is a ...</td>\n",
              "      <td>Seafood, Restaurants, Sushi Bars, Hawaiian, St...</td>\n",
              "    </tr>\n",
              "    <tr>\n",
              "      <th>100</th>\n",
              "      <td>g-I48SaHtdIGR5ZEoVeNFw</td>\n",
              "      <td>Phoenix</td>\n",
              "      <td>Lij6G8R8W9uXMByL_bPmwQ</td>\n",
              "      <td>5.0</td>\n",
              "      <td>Awesome food and cheap prices. Such great qual...</td>\n",
              "      <td>Seafood, Japanese, Restaurants, Sushi Bars</td>\n",
              "    </tr>\n",
              "    <tr>\n",
              "      <th>102</th>\n",
              "      <td>6xgcHeLad-VaoTIQewK84A</td>\n",
              "      <td>Las Vegas</td>\n",
              "      <td>aiPLx_OyfZPevtNiloSR_A</td>\n",
              "      <td>5.0</td>\n",
              "      <td>On the recommendation from a fine dining and s...</td>\n",
              "      <td>Seafood, Steakhouses, American (Traditional), ...</td>\n",
              "    </tr>\n",
              "    <tr>\n",
              "      <th>...</th>\n",
              "      <td>...</td>\n",
              "      <td>...</td>\n",
              "      <td>...</td>\n",
              "      <td>...</td>\n",
              "      <td>...</td>\n",
              "      <td>...</td>\n",
              "    </tr>\n",
              "    <tr>\n",
              "      <th>334262</th>\n",
              "      <td>0_mJttUgHIzC-NO18gcgBA</td>\n",
              "      <td>Las Vegas</td>\n",
              "      <td>5rN_JTClcCPhABWtQzZnzw</td>\n",
              "      <td>5.0</td>\n",
              "      <td>Love this place it's our go to for Mexican sea...</td>\n",
              "      <td>Restaurants, Mexican, Seafood, Bars, Nightlife</td>\n",
              "    </tr>\n",
              "    <tr>\n",
              "      <th>334267</th>\n",
              "      <td>kgw8nBO9ZMRhukfnJd6bxg</td>\n",
              "      <td>Las Vegas</td>\n",
              "      <td>9Pp8mvsiHSv70c_ic_6QSQ</td>\n",
              "      <td>4.0</td>\n",
              "      <td>My brother and SIL got my husband and I a gift...</td>\n",
              "      <td>Seafood, Bars, Wine Bars, Restaurants, Nightli...</td>\n",
              "    </tr>\n",
              "    <tr>\n",
              "      <th>334270</th>\n",
              "      <td>aTVssbSnSHOUitXjfyCWZg</td>\n",
              "      <td>Glendale</td>\n",
              "      <td>mC4570o6-A4yLI3sJi0omw</td>\n",
              "      <td>2.0</td>\n",
              "      <td>Heard a lot of good things about Pete's. I am ...</td>\n",
              "      <td>Seafood, Restaurants, Fish &amp; Chips</td>\n",
              "    </tr>\n",
              "    <tr>\n",
              "      <th>334298</th>\n",
              "      <td>eh127ASMZstrELE0K0XADw</td>\n",
              "      <td>Las Vegas</td>\n",
              "      <td>XZ0gMzQXbN9x11UuE-7GYQ</td>\n",
              "      <td>5.0</td>\n",
              "      <td>First time to Luke's lobster. Mom and Steph go...</td>\n",
              "      <td>Seafood, Restaurants</td>\n",
              "    </tr>\n",
              "    <tr>\n",
              "      <th>334310</th>\n",
              "      <td>cyzOijFJ82cae6qH6L8vuw</td>\n",
              "      <td>Las Vegas</td>\n",
              "      <td>6DjZVSzUb-3bggJQy-0sVw</td>\n",
              "      <td>5.0</td>\n",
              "      <td>Arrived during the week for a client luncheon....</td>\n",
              "      <td>Food, Restaurants, Thai, Seafood, Desserts</td>\n",
              "    </tr>\n",
              "  </tbody>\n",
              "</table>\n",
              "<p>17438 rows × 6 columns</p>\n",
              "</div>"
            ],
            "text/plain": [
              "                   business_id  ...                                         categories\n",
              "62      g-I48SaHtdIGR5ZEoVeNFw  ...         Seafood, Japanese, Restaurants, Sushi Bars\n",
              "92      FYqFfaxVRW6pdviONXIoDw  ...  Nightlife, Restaurants, Steakhouses, American ...\n",
              "98      1Df5WnLX3DqN6ymlhqznaQ  ...  Seafood, Restaurants, Sushi Bars, Hawaiian, St...\n",
              "100     g-I48SaHtdIGR5ZEoVeNFw  ...         Seafood, Japanese, Restaurants, Sushi Bars\n",
              "102     6xgcHeLad-VaoTIQewK84A  ...  Seafood, Steakhouses, American (Traditional), ...\n",
              "...                        ...  ...                                                ...\n",
              "334262  0_mJttUgHIzC-NO18gcgBA  ...     Restaurants, Mexican, Seafood, Bars, Nightlife\n",
              "334267  kgw8nBO9ZMRhukfnJd6bxg  ...  Seafood, Bars, Wine Bars, Restaurants, Nightli...\n",
              "334270  aTVssbSnSHOUitXjfyCWZg  ...                 Seafood, Restaurants, Fish & Chips\n",
              "334298  eh127ASMZstrELE0K0XADw  ...                               Seafood, Restaurants\n",
              "334310  cyzOijFJ82cae6qH6L8vuw  ...         Food, Restaurants, Thai, Seafood, Desserts\n",
              "\n",
              "[17438 rows x 6 columns]"
            ]
          },
          "metadata": {
            "tags": []
          },
          "execution_count": 24
        }
      ]
    },
    {
      "cell_type": "code",
      "metadata": {
        "id": "x67fP0IihAoR",
        "colab_type": "code",
        "colab": {
          "base_uri": "https://localhost:8080/",
          "height": 221
        },
        "outputId": "5c201e1e-4d81-4279-a87e-690adbe0a872"
      },
      "source": [
        "df_joint.categories.value_counts()"
      ],
      "execution_count": 25,
      "outputs": [
        {
          "output_type": "execute_result",
          "data": {
            "text/plain": [
              "Seafood, Restaurants                                                                        292\n",
              "Restaurants, Seafood                                                                        249\n",
              "Car Dealers, Nightlife, Automotive, Buffets, Wine Bars, Bars, Thai, Restaurants, Seafood    167\n",
              "Restaurants, Bars, Seafood, Nightlife                                                       138\n",
              "Restaurants, Seafood, Desserts, Specialty Food, Food, Buffets                               120\n",
              "                                                                                           ... \n",
              "Seafood, Restaurants, Breakfast & Brunch, Bars, Food, Nightlife, Beer, Wine & Spirits         1\n",
              "Bars, Lounges, Nightlife, Wine Bars, Restaurants, Seafood, Steakhouses                        1\n",
              "Seafood, Brasseries, Restaurants                                                              1\n",
              "Seafood, Fast Food, Southern, Restaurants, Soul Food                                          1\n",
              "Sandwiches, Restaurants, Seafood, Burgers, Pizza                                              1\n",
              "Name: categories, Length: 1630, dtype: int64"
            ]
          },
          "metadata": {
            "tags": []
          },
          "execution_count": 25
        }
      ]
    },
    {
      "cell_type": "code",
      "metadata": {
        "id": "K22O7kLRW9Br",
        "colab_type": "code",
        "colab": {}
      },
      "source": [
        "#data labeling "
      ],
      "execution_count": 0,
      "outputs": []
    },
    {
      "cell_type": "code",
      "metadata": {
        "id": "VNLDDqnwJ_CQ",
        "colab_type": "code",
        "colab": {
          "base_uri": "https://localhost:8080/",
          "height": 139
        },
        "outputId": "be4628e8-794b-440d-83b0-329d28ebe689"
      },
      "source": [
        "import numpy as np\n",
        "df_joint['label'] = np.where(df_joint['stars']>=4, 1, 0)"
      ],
      "execution_count": 27,
      "outputs": [
        {
          "output_type": "stream",
          "text": [
            "/usr/local/lib/python3.6/dist-packages/ipykernel_launcher.py:2: SettingWithCopyWarning: \n",
            "A value is trying to be set on a copy of a slice from a DataFrame.\n",
            "Try using .loc[row_indexer,col_indexer] = value instead\n",
            "\n",
            "See the caveats in the documentation: http://pandas.pydata.org/pandas-docs/stable/user_guide/indexing.html#returning-a-view-versus-a-copy\n",
            "  \n"
          ],
          "name": "stderr"
        }
      ]
    },
    {
      "cell_type": "code",
      "metadata": {
        "id": "Yd7LHQyXMZgk",
        "colab_type": "code",
        "colab": {
          "base_uri": "https://localhost:8080/",
          "height": 980
        },
        "outputId": "a41ae6b4-7684-43ef-ca02-e095aa079640"
      },
      "source": [
        "df_joint"
      ],
      "execution_count": 28,
      "outputs": [
        {
          "output_type": "execute_result",
          "data": {
            "text/html": [
              "<div>\n",
              "<style scoped>\n",
              "    .dataframe tbody tr th:only-of-type {\n",
              "        vertical-align: middle;\n",
              "    }\n",
              "\n",
              "    .dataframe tbody tr th {\n",
              "        vertical-align: top;\n",
              "    }\n",
              "\n",
              "    .dataframe thead th {\n",
              "        text-align: right;\n",
              "    }\n",
              "</style>\n",
              "<table border=\"1\" class=\"dataframe\">\n",
              "  <thead>\n",
              "    <tr style=\"text-align: right;\">\n",
              "      <th></th>\n",
              "      <th>business_id</th>\n",
              "      <th>city</th>\n",
              "      <th>review_id</th>\n",
              "      <th>stars</th>\n",
              "      <th>text</th>\n",
              "      <th>categories</th>\n",
              "      <th>label</th>\n",
              "    </tr>\n",
              "  </thead>\n",
              "  <tbody>\n",
              "    <tr>\n",
              "      <th>62</th>\n",
              "      <td>g-I48SaHtdIGR5ZEoVeNFw</td>\n",
              "      <td>Phoenix</td>\n",
              "      <td>WvMEtCJpaJdzUKn1mrH2aQ</td>\n",
              "      <td>1.0</td>\n",
              "      <td>WOW!  That's all I have to say.  Not sure what...</td>\n",
              "      <td>Seafood, Japanese, Restaurants, Sushi Bars</td>\n",
              "      <td>0</td>\n",
              "    </tr>\n",
              "    <tr>\n",
              "      <th>92</th>\n",
              "      <td>FYqFfaxVRW6pdviONXIoDw</td>\n",
              "      <td>Las Vegas</td>\n",
              "      <td>azRegHJy84yWXaYAUB1zpA</td>\n",
              "      <td>5.0</td>\n",
              "      <td>I wanted to respond to Aaron's review. That's ...</td>\n",
              "      <td>Nightlife, Restaurants, Steakhouses, American ...</td>\n",
              "      <td>1</td>\n",
              "    </tr>\n",
              "    <tr>\n",
              "      <th>98</th>\n",
              "      <td>1Df5WnLX3DqN6ymlhqznaQ</td>\n",
              "      <td>Las Vegas</td>\n",
              "      <td>7b-TGnso8sA2KUbzXs-9Gg</td>\n",
              "      <td>4.0</td>\n",
              "      <td>Very delicious place. The Prix Fixe Menu is a ...</td>\n",
              "      <td>Seafood, Restaurants, Sushi Bars, Hawaiian, St...</td>\n",
              "      <td>1</td>\n",
              "    </tr>\n",
              "    <tr>\n",
              "      <th>100</th>\n",
              "      <td>g-I48SaHtdIGR5ZEoVeNFw</td>\n",
              "      <td>Phoenix</td>\n",
              "      <td>Lij6G8R8W9uXMByL_bPmwQ</td>\n",
              "      <td>5.0</td>\n",
              "      <td>Awesome food and cheap prices. Such great qual...</td>\n",
              "      <td>Seafood, Japanese, Restaurants, Sushi Bars</td>\n",
              "      <td>1</td>\n",
              "    </tr>\n",
              "    <tr>\n",
              "      <th>102</th>\n",
              "      <td>6xgcHeLad-VaoTIQewK84A</td>\n",
              "      <td>Las Vegas</td>\n",
              "      <td>aiPLx_OyfZPevtNiloSR_A</td>\n",
              "      <td>5.0</td>\n",
              "      <td>On the recommendation from a fine dining and s...</td>\n",
              "      <td>Seafood, Steakhouses, American (Traditional), ...</td>\n",
              "      <td>1</td>\n",
              "    </tr>\n",
              "    <tr>\n",
              "      <th>...</th>\n",
              "      <td>...</td>\n",
              "      <td>...</td>\n",
              "      <td>...</td>\n",
              "      <td>...</td>\n",
              "      <td>...</td>\n",
              "      <td>...</td>\n",
              "      <td>...</td>\n",
              "    </tr>\n",
              "    <tr>\n",
              "      <th>334262</th>\n",
              "      <td>0_mJttUgHIzC-NO18gcgBA</td>\n",
              "      <td>Las Vegas</td>\n",
              "      <td>5rN_JTClcCPhABWtQzZnzw</td>\n",
              "      <td>5.0</td>\n",
              "      <td>Love this place it's our go to for Mexican sea...</td>\n",
              "      <td>Restaurants, Mexican, Seafood, Bars, Nightlife</td>\n",
              "      <td>1</td>\n",
              "    </tr>\n",
              "    <tr>\n",
              "      <th>334267</th>\n",
              "      <td>kgw8nBO9ZMRhukfnJd6bxg</td>\n",
              "      <td>Las Vegas</td>\n",
              "      <td>9Pp8mvsiHSv70c_ic_6QSQ</td>\n",
              "      <td>4.0</td>\n",
              "      <td>My brother and SIL got my husband and I a gift...</td>\n",
              "      <td>Seafood, Bars, Wine Bars, Restaurants, Nightli...</td>\n",
              "      <td>1</td>\n",
              "    </tr>\n",
              "    <tr>\n",
              "      <th>334270</th>\n",
              "      <td>aTVssbSnSHOUitXjfyCWZg</td>\n",
              "      <td>Glendale</td>\n",
              "      <td>mC4570o6-A4yLI3sJi0omw</td>\n",
              "      <td>2.0</td>\n",
              "      <td>Heard a lot of good things about Pete's. I am ...</td>\n",
              "      <td>Seafood, Restaurants, Fish &amp; Chips</td>\n",
              "      <td>0</td>\n",
              "    </tr>\n",
              "    <tr>\n",
              "      <th>334298</th>\n",
              "      <td>eh127ASMZstrELE0K0XADw</td>\n",
              "      <td>Las Vegas</td>\n",
              "      <td>XZ0gMzQXbN9x11UuE-7GYQ</td>\n",
              "      <td>5.0</td>\n",
              "      <td>First time to Luke's lobster. Mom and Steph go...</td>\n",
              "      <td>Seafood, Restaurants</td>\n",
              "      <td>1</td>\n",
              "    </tr>\n",
              "    <tr>\n",
              "      <th>334310</th>\n",
              "      <td>cyzOijFJ82cae6qH6L8vuw</td>\n",
              "      <td>Las Vegas</td>\n",
              "      <td>6DjZVSzUb-3bggJQy-0sVw</td>\n",
              "      <td>5.0</td>\n",
              "      <td>Arrived during the week for a client luncheon....</td>\n",
              "      <td>Food, Restaurants, Thai, Seafood, Desserts</td>\n",
              "      <td>1</td>\n",
              "    </tr>\n",
              "  </tbody>\n",
              "</table>\n",
              "<p>17438 rows × 7 columns</p>\n",
              "</div>"
            ],
            "text/plain": [
              "                   business_id  ... label\n",
              "62      g-I48SaHtdIGR5ZEoVeNFw  ...     0\n",
              "92      FYqFfaxVRW6pdviONXIoDw  ...     1\n",
              "98      1Df5WnLX3DqN6ymlhqznaQ  ...     1\n",
              "100     g-I48SaHtdIGR5ZEoVeNFw  ...     1\n",
              "102     6xgcHeLad-VaoTIQewK84A  ...     1\n",
              "...                        ...  ...   ...\n",
              "334262  0_mJttUgHIzC-NO18gcgBA  ...     1\n",
              "334267  kgw8nBO9ZMRhukfnJd6bxg  ...     1\n",
              "334270  aTVssbSnSHOUitXjfyCWZg  ...     0\n",
              "334298  eh127ASMZstrELE0K0XADw  ...     1\n",
              "334310  cyzOijFJ82cae6qH6L8vuw  ...     1\n",
              "\n",
              "[17438 rows x 7 columns]"
            ]
          },
          "metadata": {
            "tags": []
          },
          "execution_count": 28
        }
      ]
    },
    {
      "cell_type": "code",
      "metadata": {
        "id": "FZwh3emlSVgG",
        "colab_type": "code",
        "colab": {}
      },
      "source": [
        "df_text=pd.DataFrame(df_joint.text)\n",
        "np.savetxt('text.txt', df_text.values,fmt='%s')\n",
        "#df_joint_spark = spark.createDataFrame(pd.DataFrame(df_joint.text))\n",
        "#df_joint_spark.take(10)\n",
        "#textRDD=df_joint_spark.select(\"text\").rdd\n",
        "#textRDD.take(5)"
      ],
      "execution_count": 0,
      "outputs": []
    },
    {
      "cell_type": "code",
      "metadata": {
        "id": "pFMufXSVX9kz",
        "colab_type": "code",
        "colab": {
          "base_uri": "https://localhost:8080/",
          "height": 88
        },
        "outputId": "23026d57-0bdc-4692-abe1-5a90a948654a"
      },
      "source": [
        "textRDD = sc.textFile('text.txt')\n",
        "textRDD.take(3)"
      ],
      "execution_count": 30,
      "outputs": [
        {
          "output_type": "execute_result",
          "data": {
            "text/plain": [
              "[\"WOW!  That's all I have to say.  Not sure what happened since the last time I was here, but it was like going to a completely different restaurant.  Horrible, rude service from BOTH of the waitresses, not just from the one that all the other people here have mentioned--tall, nasty, and always has a look on her face like someone just took a crap in her cereal.  And I sort of got the impression that because I am gaijin (ie: not Japanese) I may have pissed them off even more.  Food still tasted the same (great) but the ambiance and the attitude really, REALLY rubbed me the wrong way.  Needless to say--no tip.  I would have RELISHED the opportunity that the other reviewer had when tall and nasty followed you out to the parking lot and demanded a tip--I guarantee she wouldn't have found that to be a pleasant experience.  You all just lost a customer and a fan--congratulations nasty face!!!\",\n",
              " \"I wanted to respond to Aaron's review. That's because I'm likely the individual the server was sitting with. Just to clarify, that was at my request. I'm on my own these days, and on most evenings my company is the latest issue of Sports Illustrated. But at this particular Fleming's, where I generally dine once each week and am a Magnum member) I've become friendly with most of the people that work there. And on this particular evening, I asked the server to join me. Had this prevented her from being attentive to your party (which was not the case, as you noted), you'd have a legitimate complaint. As that wasn't the case, there was no lack of professionalism whatsoever. Fact is, while I really enjoy all the elements (food, service, ambience) at this Fleming's, it's the personal treatment that keeps me coming back. I thought this needed to be said.\",\n",
              " 'Very delicious place. The Prix Fixe Menu is a good deal! I tried their pork chop dish and between that and the appetizer, this was way too much food for me (perfect for the boys though). We were here for a birthday dinner and they give a free small cake to the birthday person as well. It was a nice touch. Service was excellent.']"
            ]
          },
          "metadata": {
            "tags": []
          },
          "execution_count": 30
        }
      ]
    },
    {
      "cell_type": "code",
      "metadata": {
        "id": "TJUJjXuGYz8n",
        "colab_type": "code",
        "colab": {}
      },
      "source": [
        "wordRDD = textRDD.flatMap(lambda x: x.split(' '))\n",
        "wordRDD.take(10)\n",
        "wordFilteredRDD = wordRDD.filter(lambda x: len(x)>0)\n",
        "word1RDD = wordFilteredRDD.map(lambda x: (x, 1))"
      ],
      "execution_count": 0,
      "outputs": []
    },
    {
      "cell_type": "code",
      "metadata": {
        "id": "oFNSgQGrZ71H",
        "colab_type": "code",
        "colab": {
          "base_uri": "https://localhost:8080/",
          "height": 34
        },
        "outputId": "6fd53417-ae46-4f7d-f424-9c05d4de5377"
      },
      "source": [
        "wordCountRDD = word1RDD.reduceByKey(lambda x,y: x+y )\n",
        "wcList = wordCountRDD.take(5)\n",
        "print(wcList)"
      ],
      "execution_count": 32,
      "outputs": [
        {
          "output_type": "stream",
          "text": [
            "[('WOW!', 25), (\"That's\", 222), ('have', 10993), ('Not', 1177), ('sure', 1378)]\n"
          ],
          "name": "stdout"
        }
      ]
    },
    {
      "cell_type": "code",
      "metadata": {
        "id": "whbZleDCaM8b",
        "colab_type": "code",
        "colab": {
          "base_uri": "https://localhost:8080/",
          "height": 34
        },
        "outputId": "20c3b23c-5d54-4528-bd8e-b800786aed26"
      },
      "source": [
        "#convert all the words into lowercase;make the word case insensitive\n",
        "wordLowerRDD = wordFilteredRDD.map(lambda x: x.lower())\n",
        "wordLowerRDD.take(3)"
      ],
      "execution_count": 33,
      "outputs": [
        {
          "output_type": "execute_result",
          "data": {
            "text/plain": [
              "['wow!', \"that's\", 'all']"
            ]
          },
          "metadata": {
            "tags": []
          },
          "execution_count": 33
        }
      ]
    },
    {
      "cell_type": "code",
      "metadata": {
        "id": "7H-pzaABbfI1",
        "colab_type": "code",
        "colab": {}
      },
      "source": [
        "word1RDD = wordLowerRDD.map(lambda x: (x,1)) \n",
        "wordCountRDD = word1RDD.reduceByKey(lambda x,y: x+y) \n",
        "wordCountRDD.take(5)\n",
        "#filter rare words\n",
        "freqWordsRDD = wordCountRDD.filter(lambda x:  x[1]>10 ) # tip: filter keeps the times where the lambda returns true.\n",
        "freqWordsRDD.take(5)\n",
        "\n",
        "sorted_wordCountRDD=freqWordsRDD.takeOrdered(wordCountRDD.count(),key = lambda x: -x[1])\n",
        "#sorted_wordCountRDD\n"
      ],
      "execution_count": 0,
      "outputs": []
    },
    {
      "cell_type": "code",
      "metadata": {
        "id": "hz7N6o1zvSDs",
        "colab_type": "code",
        "colab": {
          "base_uri": "https://localhost:8080/",
          "height": 275
        },
        "outputId": "0c4c2e34-cc01-4bf9-a555-4fd7ff33804d"
      },
      "source": [
        "!pip install nltk==3.3"
      ],
      "execution_count": 38,
      "outputs": [
        {
          "output_type": "stream",
          "text": [
            "Collecting nltk==3.3\n",
            "\u001b[?25l  Downloading https://files.pythonhosted.org/packages/50/09/3b1755d528ad9156ee7243d52aa5cd2b809ef053a0f31b53d92853dd653a/nltk-3.3.0.zip (1.4MB)\n",
            "\u001b[K     |████████████████████████████████| 1.4MB 4.9MB/s \n",
            "\u001b[?25hRequirement already satisfied: six in /usr/local/lib/python3.6/dist-packages (from nltk==3.3) (1.12.0)\n",
            "Building wheels for collected packages: nltk\n",
            "  Building wheel for nltk (setup.py) ... \u001b[?25l\u001b[?25hdone\n",
            "  Created wheel for nltk: filename=nltk-3.3-cp36-none-any.whl size=1394469 sha256=702f9769aae3bc7cc432cef167d5a1c472c1d7aa595617d64f75c75277a21373\n",
            "  Stored in directory: /root/.cache/pip/wheels/d1/ab/40/3bceea46922767e42986aef7606a600538ca80de6062dc266c\n",
            "Successfully built nltk\n",
            "Installing collected packages: nltk\n",
            "  Found existing installation: nltk 3.2.5\n",
            "    Uninstalling nltk-3.2.5:\n",
            "      Successfully uninstalled nltk-3.2.5\n",
            "Successfully installed nltk-3.3\n"
          ],
          "name": "stdout"
        }
      ]
    },
    {
      "cell_type": "code",
      "metadata": {
        "id": "6FihsHVHybUx",
        "colab_type": "code",
        "colab": {}
      },
      "source": [
        "import nltk"
      ],
      "execution_count": 0,
      "outputs": []
    },
    {
      "cell_type": "code",
      "metadata": {
        "id": "JYnSIsEhysLQ",
        "colab_type": "code",
        "colab": {}
      },
      "source": [
        "negative_reviews=spark.read.csv('/content/drive/My Drive/negative reviews.csv').toPandas()\n",
        "positive_reviews=spark.read.csv('/content/drive/My Drive/positive reviews.csv').toPandas()"
      ],
      "execution_count": 0,
      "outputs": []
    },
    {
      "cell_type": "code",
      "metadata": {
        "id": "AtA5L2PqvPty",
        "colab_type": "code",
        "colab": {}
      },
      "source": [
        "#####larger dataset####\n",
        "positive_list=df_joint[df_joint.label==1].text.values.tolist()\n",
        "negative_list=df_joint[df_joint.label==0].text.values.tolist()"
      ],
      "execution_count": 0,
      "outputs": []
    },
    {
      "cell_type": "code",
      "metadata": {
        "id": "KIsbwiE-UqZo",
        "colab_type": "code",
        "colab": {}
      },
      "source": [
        "####1200 datasets####\n",
        "#negative_list=[' '.join(val) for val in negative_reviews.astype(str).values.tolist()]\n",
        "#positive_list=[' '.join(val) for val in positive_reviews.astype(str).values.tolist()]\n"
      ],
      "execution_count": 0,
      "outputs": []
    },
    {
      "cell_type": "code",
      "metadata": {
        "id": "-B5VOPhWzcfj",
        "colab_type": "code",
        "colab": {
          "base_uri": "https://localhost:8080/",
          "height": 68
        },
        "outputId": "c1674514-7c58-497e-d70c-68b861924dfc"
      },
      "source": [
        "import nltk\n",
        "nltk.download('punkt')"
      ],
      "execution_count": 309,
      "outputs": [
        {
          "output_type": "stream",
          "text": [
            "[nltk_data] Downloading package punkt to /root/nltk_data...\n",
            "[nltk_data]   Package punkt is already up-to-date!\n"
          ],
          "name": "stdout"
        },
        {
          "output_type": "execute_result",
          "data": {
            "text/plain": [
              "True"
            ]
          },
          "metadata": {
            "tags": []
          },
          "execution_count": 309
        }
      ]
    },
    {
      "cell_type": "code",
      "metadata": {
        "id": "5cDCm7XVXaL2",
        "colab_type": "code",
        "colab": {}
      },
      "source": [
        "from nltk.tokenize import TweetTokenizer\n",
        "tknzr = TweetTokenizer()\n",
        "negative_words=[]\n",
        "for i in range(len(negative_list)):\n",
        "  tknzr.tokenize(negative_list[i])\n",
        "  negative_words.append(tknzr.tokenize(negative_list[i]))\n",
        "#negative_words[:6]\n",
        "\n",
        "positive_words=[]\n",
        "for i in range(len(positive_list)):\n",
        "  tknzr.tokenize(positive_list[i])\n",
        "  positive_words.append(tknzr.tokenize(positive_list[i]))"
      ],
      "execution_count": 0,
      "outputs": []
    },
    {
      "cell_type": "code",
      "metadata": {
        "id": "X_u9tjKu0iTA",
        "colab_type": "code",
        "colab": {
          "base_uri": "https://localhost:8080/",
          "height": 136
        },
        "outputId": "c1e7a6b4-e386-4f58-8daa-f24129574176"
      },
      "source": [
        "nltk.download('wordnet')\n",
        "nltk.download('averaged_perceptron_tagger')"
      ],
      "execution_count": 311,
      "outputs": [
        {
          "output_type": "stream",
          "text": [
            "[nltk_data] Downloading package wordnet to /root/nltk_data...\n",
            "[nltk_data]   Package wordnet is already up-to-date!\n",
            "[nltk_data] Downloading package averaged_perceptron_tagger to\n",
            "[nltk_data]     /root/nltk_data...\n",
            "[nltk_data]   Package averaged_perceptron_tagger is already up-to-\n",
            "[nltk_data]       date!\n"
          ],
          "name": "stdout"
        },
        {
          "output_type": "execute_result",
          "data": {
            "text/plain": [
              "True"
            ]
          },
          "metadata": {
            "tags": []
          },
          "execution_count": 311
        }
      ]
    },
    {
      "cell_type": "code",
      "metadata": {
        "id": "QtiWWSBQ0oTc",
        "colab_type": "code",
        "colab": {
          "base_uri": "https://localhost:8080/",
          "height": 71
        },
        "outputId": "c4a3216a-bc89-4101-c4a1-a2680aae114f"
      },
      "source": [
        "from nltk.tag import pos_tag\n",
        "print(pos_tag(positive_words[0]))\n",
        "print(pos_tag(negative_words[0]))"
      ],
      "execution_count": 312,
      "outputs": [
        {
          "output_type": "stream",
          "text": [
            "[('I', 'PRP'), ('wanted', 'VBD'), ('to', 'TO'), ('respond', 'VB'), ('to', 'TO'), (\"Aaron's\", 'NNP'), ('review', 'NN'), ('.', '.'), (\"That's\", 'NNP'), ('because', 'IN'), (\"I'm\", 'NNP'), ('likely', 'RB'), ('the', 'DT'), ('individual', 'NN'), ('the', 'DT'), ('server', 'NN'), ('was', 'VBD'), ('sitting', 'VBG'), ('with', 'IN'), ('.', '.'), ('Just', 'NNP'), ('to', 'TO'), ('clarify', 'VB'), (',', ','), ('that', 'DT'), ('was', 'VBD'), ('at', 'IN'), ('my', 'PRP$'), ('request', 'NN'), ('.', '.'), (\"I'm\", 'NNP'), ('on', 'IN'), ('my', 'PRP$'), ('own', 'JJ'), ('these', 'DT'), ('days', 'NNS'), (',', ','), ('and', 'CC'), ('on', 'IN'), ('most', 'JJS'), ('evenings', 'NNS'), ('my', 'PRP$'), ('company', 'NN'), ('is', 'VBZ'), ('the', 'DT'), ('latest', 'JJS'), ('issue', 'NN'), ('of', 'IN'), ('Sports', 'NNP'), ('Illustrated', 'NNP'), ('.', '.'), ('But', 'CC'), ('at', 'IN'), ('this', 'DT'), ('particular', 'JJ'), (\"Fleming's\", 'NNP'), (',', ','), ('where', 'WRB'), ('I', 'PRP'), ('generally', 'RB'), ('dine', 'VBP'), ('once', 'RB'), ('each', 'DT'), ('week', 'NN'), ('and', 'CC'), ('am', 'VBP'), ('a', 'DT'), ('Magnum', 'NNP'), ('member', 'NN'), (')', ')'), (\"I've\", 'NNP'), ('become', 'VBN'), ('friendly', 'JJ'), ('with', 'IN'), ('most', 'JJS'), ('of', 'IN'), ('the', 'DT'), ('people', 'NNS'), ('that', 'WDT'), ('work', 'VBP'), ('there', 'RB'), ('.', '.'), ('And', 'CC'), ('on', 'IN'), ('this', 'DT'), ('particular', 'JJ'), ('evening', 'NN'), (',', ','), ('I', 'PRP'), ('asked', 'VBD'), ('the', 'DT'), ('server', 'NN'), ('to', 'TO'), ('join', 'VB'), ('me', 'PRP'), ('.', '.'), ('Had', 'VBD'), ('this', 'DT'), ('prevented', 'VBN'), ('her', 'NN'), ('from', 'IN'), ('being', 'VBG'), ('attentive', 'JJ'), ('to', 'TO'), ('your', 'PRP$'), ('party', 'NN'), ('(', '('), ('which', 'WDT'), ('was', 'VBD'), ('not', 'RB'), ('the', 'DT'), ('case', 'NN'), (',', ','), ('as', 'IN'), ('you', 'PRP'), ('noted', 'VBD'), (')', ')'), (',', ','), (\"you'd\", 'RB'), ('have', 'VBP'), ('a', 'DT'), ('legitimate', 'JJ'), ('complaint', 'NN'), ('.', '.'), ('As', 'IN'), ('that', 'DT'), (\"wasn't\", 'VBZ'), ('the', 'DT'), ('case', 'NN'), (',', ','), ('there', 'EX'), ('was', 'VBD'), ('no', 'DT'), ('lack', 'NN'), ('of', 'IN'), ('professionalism', 'NN'), ('whatsoever', 'NN'), ('.', '.'), ('Fact', 'NNP'), ('is', 'VBZ'), (',', ','), ('while', 'IN'), ('I', 'PRP'), ('really', 'RB'), ('enjoy', 'VB'), ('all', 'PDT'), ('the', 'DT'), ('elements', 'NNS'), ('(', '('), ('food', 'NN'), (',', ','), ('service', 'NN'), (',', ','), ('ambience', 'NN'), (')', ')'), ('at', 'IN'), ('this', 'DT'), (\"Fleming's\", 'NNP'), (',', ','), (\"it's\", 'VBZ'), ('the', 'DT'), ('personal', 'JJ'), ('treatment', 'NN'), ('that', 'WDT'), ('keeps', 'VBZ'), ('me', 'PRP'), ('coming', 'VBG'), ('back', 'RB'), ('.', '.'), ('I', 'PRP'), ('thought', 'VBD'), ('this', 'DT'), ('needed', 'VBN'), ('to', 'TO'), ('be', 'VB'), ('said', 'VBD'), ('.', '.')]\n",
            "[('WOW', 'NN'), ('!', '.'), (\"That's\", 'NNP'), ('all', 'DT'), ('I', 'PRP'), ('have', 'VBP'), ('to', 'TO'), ('say', 'VB'), ('.', '.'), ('Not', 'RB'), ('sure', 'JJ'), ('what', 'WP'), ('happened', 'VBD'), ('since', 'IN'), ('the', 'DT'), ('last', 'JJ'), ('time', 'NN'), ('I', 'PRP'), ('was', 'VBD'), ('here', 'RB'), (',', ','), ('but', 'CC'), ('it', 'PRP'), ('was', 'VBD'), ('like', 'IN'), ('going', 'VBG'), ('to', 'TO'), ('a', 'DT'), ('completely', 'RB'), ('different', 'JJ'), ('restaurant', 'NN'), ('.', '.'), ('Horrible', 'JJ'), (',', ','), ('rude', 'JJ'), ('service', 'NN'), ('from', 'IN'), ('BOTH', 'NNP'), ('of', 'IN'), ('the', 'DT'), ('waitresses', 'NNS'), (',', ','), ('not', 'RB'), ('just', 'RB'), ('from', 'IN'), ('the', 'DT'), ('one', 'NN'), ('that', 'WDT'), ('all', 'PDT'), ('the', 'DT'), ('other', 'JJ'), ('people', 'NNS'), ('here', 'RB'), ('have', 'VBP'), ('mentioned--tall', 'NN'), (',', ','), ('nasty', 'JJ'), (',', ','), ('and', 'CC'), ('always', 'RB'), ('has', 'VBZ'), ('a', 'DT'), ('look', 'NN'), ('on', 'IN'), ('her', 'PRP$'), ('face', 'NN'), ('like', 'IN'), ('someone', 'NN'), ('just', 'RB'), ('took', 'VBD'), ('a', 'DT'), ('crap', 'NN'), ('in', 'IN'), ('her', 'PRP$'), ('cereal', 'NN'), ('.', '.'), ('And', 'CC'), ('I', 'PRP'), ('sort', 'NN'), ('of', 'IN'), ('got', 'VBD'), ('the', 'DT'), ('impression', 'NN'), ('that', 'IN'), ('because', 'IN'), ('I', 'PRP'), ('am', 'VBP'), ('gaijin', 'JJ'), ('(', '('), ('ie', 'NN'), (':', ':'), ('not', 'RB'), ('Japanese', 'NNP'), (')', ')'), ('I', 'PRP'), ('may', 'MD'), ('have', 'VB'), ('pissed', 'VBN'), ('them', 'PRP'), ('off', 'RP'), ('even', 'RB'), ('more', 'RBR'), ('.', '.'), ('Food', 'NNP'), ('still', 'RB'), ('tasted', 'VBD'), ('the', 'DT'), ('same', 'JJ'), ('(', '('), ('great', 'JJ'), (')', ')'), ('but', 'CC'), ('the', 'DT'), ('ambiance', 'NN'), ('and', 'CC'), ('the', 'DT'), ('attitude', 'NN'), ('really', 'RB'), (',', ','), ('REALLY', 'NNP'), ('rubbed', 'VBD'), ('me', 'PRP'), ('the', 'DT'), ('wrong', 'JJ'), ('way', 'NN'), ('.', '.'), ('Needless', 'NNP'), ('to', 'TO'), ('say--no', 'JJ'), ('tip', 'NN'), ('.', '.'), ('I', 'PRP'), ('would', 'MD'), ('have', 'VB'), ('RELISHED', 'NNP'), ('the', 'DT'), ('opportunity', 'NN'), ('that', 'IN'), ('the', 'DT'), ('other', 'JJ'), ('reviewer', 'NN'), ('had', 'VBD'), ('when', 'WRB'), ('tall', 'JJ'), ('and', 'CC'), ('nasty', 'JJ'), ('followed', 'VBD'), ('you', 'PRP'), ('out', 'IN'), ('to', 'TO'), ('the', 'DT'), ('parking', 'NN'), ('lot', 'NN'), ('and', 'CC'), ('demanded', 'VBD'), ('a', 'DT'), ('tip--I', 'JJ'), ('guarantee', 'NN'), ('she', 'PRP'), (\"wouldn't\", 'WDT'), ('have', 'VBP'), ('found', 'VBN'), ('that', 'IN'), ('to', 'TO'), ('be', 'VB'), ('a', 'DT'), ('pleasant', 'JJ'), ('experience', 'NN'), ('.', '.'), ('You', 'PRP'), ('all', 'DT'), ('just', 'RB'), ('lost', 'VBN'), ('a', 'DT'), ('customer', 'NN'), ('and', 'CC'), ('a', 'DT'), ('fan--congratulations', 'NNS'), ('nasty', 'JJ'), ('face', 'NN'), ('!', '.'), ('!', '.'), ('!', '.')]\n"
          ],
          "name": "stdout"
        }
      ]
    },
    {
      "cell_type": "code",
      "metadata": {
        "id": "lFqMtCji15vB",
        "colab_type": "code",
        "colab": {
          "base_uri": "https://localhost:8080/",
          "height": 71
        },
        "outputId": "cc883f38-297e-4b8f-a08e-ddb184a8113c"
      },
      "source": [
        "from nltk.stem.wordnet import WordNetLemmatizer\n",
        "\n",
        "def lemmatize_sentence(tokens):\n",
        "    lemmatizer = WordNetLemmatizer()\n",
        "    lemmatized_sentence = []\n",
        "    for word, tag in pos_tag(tokens):\n",
        "        if tag.startswith('NN'):\n",
        "            pos = 'n'\n",
        "        elif tag.startswith('VB'):\n",
        "            pos = 'v'\n",
        "        else:\n",
        "            pos = 'a'\n",
        "        lemmatized_sentence.append(lemmatizer.lemmatize(word, pos))\n",
        "    return lemmatized_sentence\n",
        "\n",
        "print(lemmatize_sentence(positive_words[0]))\n",
        "print(lemmatize_sentence(negative_words[0]))"
      ],
      "execution_count": 313,
      "outputs": [
        {
          "output_type": "stream",
          "text": [
            "['I', 'want', 'to', 'respond', 'to', \"Aaron's\", 'review', '.', \"That's\", 'because', \"I'm\", 'likely', 'the', 'individual', 'the', 'server', 'be', 'sit', 'with', '.', 'Just', 'to', 'clarify', ',', 'that', 'be', 'at', 'my', 'request', '.', \"I'm\", 'on', 'my', 'own', 'these', 'day', ',', 'and', 'on', 'most', 'evening', 'my', 'company', 'be', 'the', 'late', 'issue', 'of', 'Sports', 'Illustrated', '.', 'But', 'at', 'this', 'particular', \"Fleming's\", ',', 'where', 'I', 'generally', 'dine', 'once', 'each', 'week', 'and', 'be', 'a', 'Magnum', 'member', ')', \"I've\", 'become', 'friendly', 'with', 'most', 'of', 'the', 'people', 'that', 'work', 'there', '.', 'And', 'on', 'this', 'particular', 'evening', ',', 'I', 'ask', 'the', 'server', 'to', 'join', 'me', '.', 'Had', 'this', 'prevent', 'her', 'from', 'be', 'attentive', 'to', 'your', 'party', '(', 'which', 'be', 'not', 'the', 'case', ',', 'as', 'you', 'note', ')', ',', \"you'd\", 'have', 'a', 'legitimate', 'complaint', '.', 'As', 'that', \"wasn't\", 'the', 'case', ',', 'there', 'be', 'no', 'lack', 'of', 'professionalism', 'whatsoever', '.', 'Fact', 'be', ',', 'while', 'I', 'really', 'enjoy', 'all', 'the', 'element', '(', 'food', ',', 'service', ',', 'ambience', ')', 'at', 'this', \"Fleming's\", ',', \"it's\", 'the', 'personal', 'treatment', 'that', 'keep', 'me', 'come', 'back', '.', 'I', 'think', 'this', 'need', 'to', 'be', 'say', '.']\n",
            "['WOW', '!', \"That's\", 'all', 'I', 'have', 'to', 'say', '.', 'Not', 'sure', 'what', 'happen', 'since', 'the', 'last', 'time', 'I', 'be', 'here', ',', 'but', 'it', 'be', 'like', 'go', 'to', 'a', 'completely', 'different', 'restaurant', '.', 'Horrible', ',', 'rude', 'service', 'from', 'BOTH', 'of', 'the', 'waitress', ',', 'not', 'just', 'from', 'the', 'one', 'that', 'all', 'the', 'other', 'people', 'here', 'have', 'mentioned--tall', ',', 'nasty', ',', 'and', 'always', 'have', 'a', 'look', 'on', 'her', 'face', 'like', 'someone', 'just', 'take', 'a', 'crap', 'in', 'her', 'cereal', '.', 'And', 'I', 'sort', 'of', 'get', 'the', 'impression', 'that', 'because', 'I', 'be', 'gaijin', '(', 'ie', ':', 'not', 'Japanese', ')', 'I', 'may', 'have', 'piss', 'them', 'off', 'even', 'more', '.', 'Food', 'still', 'taste', 'the', 'same', '(', 'great', ')', 'but', 'the', 'ambiance', 'and', 'the', 'attitude', 'really', ',', 'REALLY', 'rub', 'me', 'the', 'wrong', 'way', '.', 'Needless', 'to', 'say--no', 'tip', '.', 'I', 'would', 'have', 'RELISHED', 'the', 'opportunity', 'that', 'the', 'other', 'reviewer', 'have', 'when', 'tall', 'and', 'nasty', 'follow', 'you', 'out', 'to', 'the', 'parking', 'lot', 'and', 'demand', 'a', 'tip--I', 'guarantee', 'she', \"wouldn't\", 'have', 'find', 'that', 'to', 'be', 'a', 'pleasant', 'experience', '.', 'You', 'all', 'just', 'lose', 'a', 'customer', 'and', 'a', 'fan--congratulations', 'nasty', 'face', '!', '!', '!']\n"
          ],
          "name": "stdout"
        }
      ]
    },
    {
      "cell_type": "code",
      "metadata": {
        "id": "o1tJTLMO3DCf",
        "colab_type": "code",
        "colab": {}
      },
      "source": [
        "import re, string\n",
        "\n",
        "def remove_noise(review_tokens, stop_words = ()):\n",
        "\n",
        "    cleaned_tokens = []\n",
        "\n",
        "    for token, tag in pos_tag(review_tokens):\n",
        "        token = re.sub('http[s]?://(?:[a-zA-Z]|[0-9]|[$-_@.&+#]|[!*\\(\\),]|'\\\n",
        "                       '(?:%[0-9a-fA-F][0-9a-fA-F]))+','', token)\n",
        "\n",
        "        if tag.startswith(\"NN\"):\n",
        "            pos = 'n'\n",
        "        elif tag.startswith('VB'):\n",
        "            pos = 'v'\n",
        "        else:\n",
        "            pos = 'a'\n",
        "\n",
        "        lemmatizer = WordNetLemmatizer()\n",
        "        token = lemmatizer.lemmatize(token, pos)\n",
        "\n",
        "        if len(token) > 0 and token not in string.punctuation and token.lower() not in stop_words:\n",
        "            cleaned_tokens.append(token.lower())\n",
        "    return cleaned_tokens"
      ],
      "execution_count": 0,
      "outputs": []
    },
    {
      "cell_type": "code",
      "metadata": {
        "id": "rzFe66rl4Fo4",
        "colab_type": "code",
        "colab": {
          "base_uri": "https://localhost:8080/",
          "height": 68
        },
        "outputId": "5cec20f6-0a73-4b42-d962-a0ad1bda6087"
      },
      "source": [
        "nltk.download('stopwords')"
      ],
      "execution_count": 315,
      "outputs": [
        {
          "output_type": "stream",
          "text": [
            "[nltk_data] Downloading package stopwords to /root/nltk_data...\n",
            "[nltk_data]   Package stopwords is already up-to-date!\n"
          ],
          "name": "stdout"
        },
        {
          "output_type": "execute_result",
          "data": {
            "text/plain": [
              "True"
            ]
          },
          "metadata": {
            "tags": []
          },
          "execution_count": 315
        }
      ]
    },
    {
      "cell_type": "code",
      "metadata": {
        "id": "xIxCbpIj4atU",
        "colab_type": "code",
        "colab": {
          "base_uri": "https://localhost:8080/",
          "height": 71
        },
        "outputId": "e7ad611e-966e-47bc-e900-7040a39ba6da"
      },
      "source": [
        "from nltk.corpus import stopwords\n",
        "stop_words = stopwords.words('english')\n",
        "\n",
        "print(remove_noise(positive_words[0], stop_words))\n",
        "print(remove_noise(negative_words[0], stop_words))"
      ],
      "execution_count": 316,
      "outputs": [
        {
          "output_type": "stream",
          "text": [
            "['want', 'respond', \"aaron's\", 'review', \"that's\", \"i'm\", 'likely', 'individual', 'server', 'sit', 'clarify', 'request', \"i'm\", 'day', 'evening', 'company', 'late', 'issue', 'sports', 'illustrated', 'particular', \"fleming's\", 'generally', 'dine', 'week', 'magnum', 'member', \"i've\", 'become', 'friendly', 'people', 'work', 'particular', 'evening', 'ask', 'server', 'join', 'prevent', 'attentive', 'party', 'case', 'note', 'legitimate', 'complaint', 'case', 'lack', 'professionalism', 'whatsoever', 'fact', 'really', 'enjoy', 'element', 'food', 'service', 'ambience', \"fleming's\", 'personal', 'treatment', 'keep', 'come', 'back', 'think', 'need', 'say']\n",
            "['wow', \"that's\", 'say', 'sure', 'happen', 'since', 'last', 'time', 'like', 'go', 'completely', 'different', 'restaurant', 'horrible', 'rude', 'service', 'waitress', 'one', 'people', 'mentioned--tall', 'nasty', 'always', 'look', 'face', 'like', 'someone', 'take', 'crap', 'cereal', 'sort', 'get', 'impression', 'gaijin', 'ie', 'japanese', 'may', 'piss', 'even', 'food', 'still', 'taste', 'great', 'ambiance', 'attitude', 'really', 'really', 'rub', 'wrong', 'way', 'needless', 'say--no', 'tip', 'would', 'relished', 'opportunity', 'reviewer', 'tall', 'nasty', 'follow', 'parking', 'lot', 'demand', 'tip--i', 'guarantee', 'find', 'pleasant', 'experience', 'lose', 'customer', 'fan--congratulations', 'nasty', 'face']\n"
          ],
          "name": "stdout"
        }
      ]
    },
    {
      "cell_type": "code",
      "metadata": {
        "id": "1Slm7mzI4gt0",
        "colab_type": "code",
        "colab": {}
      },
      "source": [
        "\n",
        "positive_cleaned_tokens_list = []\n",
        "negative_cleaned_tokens_list = []\n",
        "\n",
        "for tokens in positive_words:\n",
        "    positive_cleaned_tokens_list.append(remove_noise(tokens, stop_words))\n",
        "\n",
        "for tokens in negative_words:\n",
        "    negative_cleaned_tokens_list.append(remove_noise(tokens, stop_words))"
      ],
      "execution_count": 0,
      "outputs": []
    },
    {
      "cell_type": "code",
      "metadata": {
        "id": "O8jUyL2T49CJ",
        "colab_type": "code",
        "colab": {
          "base_uri": "https://localhost:8080/",
          "height": 71
        },
        "outputId": "571011b1-3cde-47fc-c624-c5c23f5a9eb5"
      },
      "source": [
        "print(positive_words[5])\n",
        "print(positive_cleaned_tokens_list[5])\n"
      ],
      "execution_count": 318,
      "outputs": [
        {
          "output_type": "stream",
          "text": [
            "['Went', 'for', 'my', \"wife's\", 'birthday', '.', 'Food', ',', 'service', '...', 'everything', 'was', 'amazing', '.', 'I', 'boycotted', 'Flemings', 'a', 'while', 'back', 'and', 'so', 'glad', 'I', 'did', 'because', 'I', 'have', 'tried', 'some', 'fantastic', 'places', ',', 'Roys', 'is', 'on', 'the', 'top', 'of', 'the', 'list', '.', 'The', 'Ahi', 'was', 'the', 'highest', 'quality', 'and', 'super', 'dark', 'red', '.', 'I', 'will', 'go', 'back', 'for', 'sure', '.']\n",
            "['went', \"wife's\", 'birthday', 'food', 'service', '...', 'everything', 'amaze', 'boycott', 'flemings', 'back', 'glad', 'try', 'fantastic', 'place', 'roys', 'top', 'list', 'ahi', 'high', 'quality', 'super', 'dark', 'red', 'go', 'back', 'sure']\n"
          ],
          "name": "stdout"
        }
      ]
    },
    {
      "cell_type": "code",
      "metadata": {
        "id": "fDI343eY5E9K",
        "colab_type": "code",
        "colab": {}
      },
      "source": [
        "def get_all_words(cleaned_tokens_list):\n",
        "    for tokens in cleaned_tokens_list:\n",
        "        for token in tokens:\n",
        "            yield token\n",
        "\n",
        "all_pos_words = get_all_words(positive_cleaned_tokens_list)\n",
        "all_neg_words= get_all_words(negative_cleaned_tokens_list)"
      ],
      "execution_count": 0,
      "outputs": []
    },
    {
      "cell_type": "code",
      "metadata": {
        "id": "licn5W9u5Nex",
        "colab_type": "code",
        "colab": {
          "base_uri": "https://localhost:8080/",
          "height": 71
        },
        "outputId": "c3ab1039-b317-4139-88e4-03d7a456680a"
      },
      "source": [
        "from nltk import FreqDist\n",
        "\n",
        "freq_dist_pos = FreqDist(all_pos_words)\n",
        "freq_dist_neg = FreqDist(all_neg_words)\n",
        "\n",
        "print(freq_dist_pos.most_common(10))\n",
        "print(freq_dist_neg.most_common(10))"
      ],
      "execution_count": 328,
      "outputs": [
        {
          "output_type": "stream",
          "text": [
            "[('food', 8678), ('good', 8545), ('great', 7413), ('place', 7195), ('get', 5673), ('go', 5380), ('service', 5205), ('order', 4690), ('come', 4539), ('time', 4507)]\n",
            "[('food', 5508), ('good', 5206), ('order', 4083), ('get', 4060), ('go', 3650), ('place', 3457), ('come', 3271), ('like', 3014), ('service', 2967), ('...', 2724)]\n"
          ],
          "name": "stdout"
        }
      ]
    },
    {
      "cell_type": "code",
      "metadata": {
        "id": "COTVf3CJ53A8",
        "colab_type": "code",
        "colab": {}
      },
      "source": [
        "def get_reviews_for_model(cleaned_tokens_list):\n",
        "    for review_tokens in cleaned_tokens_list:\n",
        "        yield dict([token, True] for token in review_tokens)\n",
        "\n",
        "positive_tokens_for_model = get_reviews_for_model(positive_cleaned_tokens_list)\n",
        "negative_tokens_for_model = get_reviews_for_model(negative_cleaned_tokens_list)"
      ],
      "execution_count": 0,
      "outputs": []
    },
    {
      "cell_type": "code",
      "metadata": {
        "id": "cL-IktU66OIa",
        "colab_type": "code",
        "colab": {}
      },
      "source": [
        "import random\n",
        "\n",
        "positive_dataset = [(review_dict, \"Positive\")\n",
        "                     for review_dict in positive_tokens_for_model]\n",
        "\n",
        "negative_dataset = [(review_dict, \"Negative\")\n",
        "                     for review_dict in negative_tokens_for_model]\n",
        "\n",
        "dataset = positive_dataset + negative_dataset\n",
        "\n",
        "random.shuffle(dataset)\n",
        "\n",
        "train_data = dataset[:13000]\n",
        "test_data = dataset[13000:]\n",
        "#negative_dataset "
      ],
      "execution_count": 0,
      "outputs": []
    },
    {
      "cell_type": "code",
      "metadata": {
        "id": "eJgfvWUd6Xkm",
        "colab_type": "code",
        "colab": {
          "base_uri": "https://localhost:8080/",
          "height": 238
        },
        "outputId": "498b8ea2-3045-4305-bdbe-4d0170d80447"
      },
      "source": [
        "from nltk import classify\n",
        "from nltk import NaiveBayesClassifier\n",
        "classifier = NaiveBayesClassifier.train(train_data)\n",
        "\n",
        "print(\"Accuracy is:\", classify.accuracy(classifier, test_data))\n",
        "\n",
        "print(classifier.show_most_informative_features(10))"
      ],
      "execution_count": 337,
      "outputs": [
        {
          "output_type": "stream",
          "text": [
            "Accuracy is: 0.6498422712933754\n",
            "Most Informative Features\n",
            "            unacceptable = True           Negati : Positi =     45.0 : 1.0\n",
            "                   worst = True           Negati : Positi =     42.4 : 1.0\n",
            "                   worse = True           Negati : Positi =     32.1 : 1.0\n",
            "                downhill = True           Negati : Positi =     29.6 : 1.0\n",
            "                  filthy = True           Negati : Positi =     25.0 : 1.0\n",
            "               microwave = True           Negati : Positi =     23.6 : 1.0\n",
            "               tasteless = True           Negati : Positi =     22.4 : 1.0\n",
            "                horrible = True           Negati : Positi =     21.8 : 1.0\n",
            "                  refund = True           Negati : Positi =     21.0 : 1.0\n",
            "                  insult = True           Negati : Positi =     20.7 : 1.0\n",
            "None\n"
          ],
          "name": "stdout"
        }
      ]
    },
    {
      "cell_type": "code",
      "metadata": {
        "id": "Mz6iLY16BoXr",
        "colab_type": "code",
        "colab": {}
      },
      "source": [
        "#from nltk.tokenize import word_tokenize\n",
        "\n",
        "#custom_tweet = \"I ordered just once from TerribleCo, they screwed up, never used the app again.\"\n",
        "\n",
        "#custom_tokens = remove_noise(word_tokenize(custom_tweet))\n",
        "\n",
        "#print(classifier.classify(dict([token, True] for token in custom_tokens)))\n",
        "                   "
      ],
      "execution_count": 0,
      "outputs": []
    },
    {
      "cell_type": "code",
      "metadata": {
        "id": "KLKN0v-oB6zs",
        "colab_type": "code",
        "colab": {}
      },
      "source": [
        ""
      ],
      "execution_count": 0,
      "outputs": []
    },
    {
      "cell_type": "code",
      "metadata": {
        "id": "AnwHVCiLCV70",
        "colab_type": "code",
        "colab": {}
      },
      "source": [
        ""
      ],
      "execution_count": 0,
      "outputs": []
    },
    {
      "cell_type": "code",
      "metadata": {
        "id": "ffTzV9Y6ChXn",
        "colab_type": "code",
        "colab": {}
      },
      "source": [
        ""
      ],
      "execution_count": 0,
      "outputs": []
    }
  ]
}